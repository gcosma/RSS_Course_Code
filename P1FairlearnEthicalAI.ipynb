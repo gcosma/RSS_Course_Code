{
  "cells": [
    {
      "cell_type": "markdown",
      "metadata": {
        "id": "view-in-github",
        "colab_type": "text"
      },
      "source": [
        "<a href=\"https://colab.research.google.com/github/gcosma/RSS_Course_Code/blob/main/P1FairlearnEthicalAI.ipynb\" target=\"_parent\"><img src=\"https://colab.research.google.com/assets/colab-badge.svg\" alt=\"Open In Colab\"/></a>"
      ]
    },
    {
      "cell_type": "markdown",
      "metadata": {
        "id": "NDxtnoIr7mIN"
      },
      "source": [
        "#Tutorial on Fairness in AI systems: <br>From social context to practice using Fairlearn\n",
        "\n",
        "---\n",
        "This is a modified and extended version of the _SciPy 2021 Tutorial: Fairness in AI systems: From social context to practice using Fairlearn by Manojit Nandi, Miroslav Dudík, Triveni Gandhi, Lisa Ibañez, Adrin Jalali, Michael Madaio, Hanna Wallach, Hilde Weerts is licensed under\n",
        "[CC BY 4.0](https://creativecommons.org/licenses/by/4.0/)._\n",
        "\n",
        "---"
      ]
    },
    {
      "cell_type": "markdown",
      "metadata": {
        "id": "Sch9KDWg7SL8"
      },
      "source": [
        "Fairness in AI systems is an interdisciplinary field of research and practice that aims to understand and address some of the negative impacts of AI systems on society. \n",
        "\n",
        "In this tutorial, we will walk through the process of assessing and mitigating fairness-related harms in the context of a health care system. \n",
        "\n",
        "Participants will use the open-source Fairlearn library to assess ML models for performance disparities across different racial groups and mitigate those disparities using a variety of algorithmic techniques."
      ]
    },
    {
      "cell_type": "markdown",
      "metadata": {
        "id": "fboVvqvVvpKz"
      },
      "source": [
        "# **Part 1: Prepare environment**"
      ]
    },
    {
      "cell_type": "markdown",
      "metadata": {
        "id": "o0p461hmgrmz"
      },
      "source": [
        "## Install packages"
      ]
    },
    {
      "cell_type": "markdown",
      "source": [
        "* **machine learning and data processing**: _scikit-learn_, _pandas_, _numpy_\n",
        "* **plotting**: _seaborn_, _matplotlib_\n",
        "* **AI fairness**: _Fairlearn_ "
      ],
      "metadata": {
        "id": "V7TT1Zx6jpGG"
      }
    },
    {
      "cell_type": "code",
      "source": [
        "!pip install --upgrade fairlearn==0.7.0\n",
        "!pip install --upgrade scikit-learn\n",
        "!pip install --upgrade seaborn"
      ],
      "metadata": {
        "id": "LnZAayDESJOs"
      },
      "execution_count": null,
      "outputs": []
    },
    {
      "cell_type": "markdown",
      "metadata": {
        "id": "fVtpwFGJLcgU"
      },
      "source": [
        "## Import and set up packages"
      ]
    },
    {
      "cell_type": "code",
      "execution_count": null,
      "metadata": {
        "id": "cEwLsWyTLgJn"
      },
      "outputs": [],
      "source": [
        "import numpy as np\n",
        "import pandas as pd\n",
        "pd.set_option(\"display.float_format\", \"{:.3f}\".format)"
      ]
    },
    {
      "cell_type": "code",
      "execution_count": null,
      "metadata": {
        "id": "wBOSsyc48MK0"
      },
      "outputs": [],
      "source": [
        "import matplotlib.pyplot as plt\n",
        "import seaborn as sns\n",
        "sns.set() "
      ]
    },
    {
      "cell_type": "code",
      "execution_count": null,
      "metadata": {
        "id": "VhbFzU6GLgW0"
      },
      "outputs": [],
      "source": [
        "from sklearn.linear_model import LogisticRegression \n",
        "from sklearn.model_selection import train_test_split \n",
        "from sklearn.preprocessing import StandardScaler \n",
        "from sklearn.pipeline import Pipeline\n",
        "from sklearn.utils import Bunch\n",
        "from sklearn.metrics import (\n",
        "    balanced_accuracy_score,\n",
        "    roc_auc_score,\n",
        "    accuracy_score,\n",
        "    recall_score,\n",
        "    confusion_matrix,\n",
        "    roc_auc_score,\n",
        "    roc_curve,\n",
        "    plot_roc_curve)\n",
        "from sklearn import set_config\n",
        "\n",
        "set_config(display=\"diagram\")"
      ]
    },
    {
      "cell_type": "code",
      "execution_count": null,
      "metadata": {
        "id": "GcilMnWhLgaT"
      },
      "outputs": [],
      "source": [
        "#From the Fairlearn library import metrics\n",
        "from fairlearn.metrics import (\n",
        "    MetricFrame,\n",
        "    true_positive_rate,\n",
        "    false_positive_rate,\n",
        "    false_negative_rate,\n",
        "    selection_rate,\n",
        "    count,\n",
        "    false_negative_rate_difference\n",
        ")\n",
        "\n",
        "from fairlearn.postprocessing import ThresholdOptimizer, plot_threshold_optimizer\n",
        "from fairlearn.postprocessing._interpolated_thresholder import InterpolatedThresholder\n",
        "from fairlearn.postprocessing._threshold_operation import ThresholdOperation\n",
        "from fairlearn.reductions import ExponentiatedGradient, EqualizedOdds, TruePositiveRateParity"
      ]
    },
    {
      "cell_type": "code",
      "execution_count": null,
      "metadata": {
        "id": "S4ANMj1M8k0h"
      },
      "outputs": [],
      "source": [
        "from IPython import display\n",
        "from datetime import date"
      ]
    },
    {
      "cell_type": "markdown",
      "metadata": {
        "id": "_j1vtg6TD7Fi"
      },
      "source": [
        "# **Introduction to the health care scenario**"
      ]
    },
    {
      "cell_type": "markdown",
      "metadata": {
        "id": "q-j4KN95wLLS"
      },
      "source": [
        "## Dataset and task"
      ]
    },
    {
      "cell_type": "markdown",
      "metadata": {
        "id": "zOwrRsB7wEeM"
      },
      "source": [
        "**Dataset:** clincial dataset of hospital re-admissions over a ten-year period (1998-2008) for diabetic patients across 130 different hospitals. Each record represents the hospital admission records for a patient diagnosed with diabetes whose stay lasted one to fourteen days.\n",
        "\n",
        "**Features:** The features include demographics, diagnoses, diabetic medications, number of visits in the year preceding the encounter, and payer information, as well as whether the patient was readmitted after release, and whether the readmission occurred within 30 days of the release.\n",
        "\n",
        "**Task:** We would like to develop a classification model, which decides whether the patients should be suggested to their primary care physicians for an enrollment into the high-risk care management program. The positive prediction will mean recommendation into the care program.\n",
        "\n",
        "**Decision point: Task definition**\n",
        "\n",
        "* A hospital **readmission within 30 days** can be viewed as a proxy that the patients needed more assistance at the release time, so it will be the label we wish to predict.\n",
        "\n",
        "* Because of the class imbalance, we will be measuring our performance via **balanced accuracy**. Another key performance consideration is how many patients are recommended for care, metric we refer to as **selection rate**.\n",
        "\n",
        "Ideally, health care professionals would be involved in both designing and using the model, including formalizing the task definition. \n"
      ]
    },
    {
      "cell_type": "markdown",
      "metadata": {
        "id": "2BE26iXWwUqr"
      },
      "source": [
        "## Fairness considerations"
      ]
    },
    {
      "cell_type": "markdown",
      "metadata": {
        "id": "eZUcQVZYyRvz"
      },
      "source": [
        "* _Which groups are most likely to be disproportionately negatively affected?_\n",
        "\n",
        "* _What are the harms?_ The key harms here are allocation harms. In particular, false negatives, i.e., the model does not recommend somebody for care who should have been recommended because thet will be readmitted into hospital within 30 days of last admission.\n",
        "\n",
        "* _How should we measure those harms?_\n"
      ]
    },
    {
      "cell_type": "markdown",
      "metadata": {
        "id": "2kD6G-yF1Tcf"
      },
      "source": [
        "In the remainder of the tutorial we will:\n",
        "* First examine the dataset and our choice of label with a view towards a variety of fairness issues.\n",
        "* Then train a logistic regression model and assess its performance as well as its fairness.\n",
        "* Finally, look at two unfairness mitigation strategies."
      ]
    },
    {
      "cell_type": "markdown",
      "metadata": {
        "id": "R7tpRumX_4Nh"
      },
      "source": [
        "# Task definition and dataset characteristics"
      ]
    },
    {
      "cell_type": "markdown",
      "metadata": {
        "id": "3iJGhfCgPiy-"
      },
      "source": [
        "In this part of the tutorial, we first load the dataset, and then we examine it for a variety of fairness issues:\n",
        "1. sample sizes of different demographic groups, and in particular different racial groups\n",
        "2. appropriateness of our choice of label (readmission within 30 days)\n",
        "3. representativeness/informativeness of different features for different groups\n",
        "\n",
        "The dataset characteristics can be systematically documented through the **datasheets** practice.  By documenting our understanding of the dataset, we communicate any concerns we have about the data and highlight downstream issues that may arise during the model training, evaluation and deployment."
      ]
    },
    {
      "cell_type": "markdown",
      "metadata": {
        "id": "3-ABnntZT8Fn"
      },
      "source": [
        "## Load the dataset\n"
      ]
    },
    {
      "cell_type": "markdown",
      "metadata": {
        "id": "bvyHqcLIT8Fo"
      },
      "source": [
        "We next load the dataset and review the meaning of its columns.\n"
      ]
    },
    {
      "cell_type": "code",
      "execution_count": null,
      "metadata": {
        "id": "gkfwniFQT8Fp"
      },
      "outputs": [],
      "source": [
        "#Load the dataset\n",
        "df = pd.read_csv(\"https://raw.githubusercontent.com/fairlearn/talks/main/2021_scipy_tutorial/data/diabetic_preprocessed.csv\")"
      ]
    },
    {
      "cell_type": "code",
      "execution_count": null,
      "metadata": {
        "id": "mIFN96kiT8Fq",
        "colab": {
          "base_uri": "https://localhost:8080/",
          "height": 1000
        },
        "outputId": "dec71172-a9c1-4851-f917-c6bb172a0e0a"
      },
      "outputs": [
        {
          "output_type": "execute_result",
          "data": {
            "text/plain": [
              "               race  gender                  age discharge_disposition_id  \\\n",
              "0         Caucasian  Female  30 years or younger                    Other   \n",
              "1         Caucasian  Female  30 years or younger       Discharged to Home   \n",
              "2   AfricanAmerican  Female  30 years or younger       Discharged to Home   \n",
              "3         Caucasian    Male          30-60 years       Discharged to Home   \n",
              "4         Caucasian    Male          30-60 years       Discharged to Home   \n",
              "5         Caucasian    Male          30-60 years       Discharged to Home   \n",
              "6         Caucasian    Male        Over 60 years       Discharged to Home   \n",
              "7         Caucasian    Male        Over 60 years       Discharged to Home   \n",
              "8         Caucasian  Female        Over 60 years       Discharged to Home   \n",
              "9         Caucasian  Female        Over 60 years                    Other   \n",
              "10  AfricanAmerican  Female          30-60 years       Discharged to Home   \n",
              "11  AfricanAmerican    Male        Over 60 years       Discharged to Home   \n",
              "12        Caucasian  Female          30-60 years                    Other   \n",
              "13        Caucasian    Male        Over 60 years                    Other   \n",
              "14  AfricanAmerican  Female        Over 60 years       Discharged to Home   \n",
              "15  AfricanAmerican    Male        Over 60 years                    Other   \n",
              "16  AfricanAmerican    Male          30-60 years       Discharged to Home   \n",
              "17        Caucasian  Female          30-60 years       Discharged to Home   \n",
              "18  AfricanAmerican    Male        Over 60 years       Discharged to Home   \n",
              "19          Unknown    Male        Over 60 years                    Other   \n",
              "20          Unknown  Female          30-60 years       Discharged to Home   \n",
              "21          Unknown    Male        Over 60 years       Discharged to Home   \n",
              "22  AfricanAmerican  Female        Over 60 years       Discharged to Home   \n",
              "23        Caucasian  Female        Over 60 years                    Other   \n",
              "24  AfricanAmerican  Female        Over 60 years       Discharged to Home   \n",
              "25            Other  Female          30-60 years       Discharged to Home   \n",
              "26        Caucasian    Male        Over 60 years                    Other   \n",
              "27        Caucasian  Female          30-60 years       Discharged to Home   \n",
              "28        Caucasian    Male  30 years or younger       Discharged to Home   \n",
              "29        Caucasian  Female        Over 60 years                    Other   \n",
              "30  AfricanAmerican  Female        Over 60 years       Discharged to Home   \n",
              "31  AfricanAmerican    Male        Over 60 years                    Other   \n",
              "32        Caucasian  Female        Over 60 years       Discharged to Home   \n",
              "33        Caucasian    Male        Over 60 years                    Other   \n",
              "34        Caucasian  Female        Over 60 years                    Other   \n",
              "35        Caucasian  Female        Over 60 years       Discharged to Home   \n",
              "36        Caucasian  Female        Over 60 years       Discharged to Home   \n",
              "37        Caucasian  Female        Over 60 years       Discharged to Home   \n",
              "38        Caucasian    Male        Over 60 years                    Other   \n",
              "39        Caucasian    Male          30-60 years       Discharged to Home   \n",
              "40        Caucasian  Female        Over 60 years                    Other   \n",
              "41        Caucasian    Male          30-60 years       Discharged to Home   \n",
              "42        Caucasian  Female        Over 60 years       Discharged to Home   \n",
              "43        Caucasian    Male          30-60 years       Discharged to Home   \n",
              "44        Caucasian  Female        Over 60 years                    Other   \n",
              "45        Caucasian  Female          30-60 years       Discharged to Home   \n",
              "46        Caucasian  Female        Over 60 years                    Other   \n",
              "47        Caucasian    Male        Over 60 years                    Other   \n",
              "48        Caucasian    Male          30-60 years       Discharged to Home   \n",
              "49        Caucasian    Male        Over 60 years                    Other   \n",
              "\n",
              "   admission_source_id  time_in_hospital       medical_specialty  \\\n",
              "0             Referral                 1                   Other   \n",
              "1            Emergency                 3                 Missing   \n",
              "2            Emergency                 2                 Missing   \n",
              "3            Emergency                 2                 Missing   \n",
              "4            Emergency                 1                 Missing   \n",
              "5             Referral                 3                 Missing   \n",
              "6             Referral                 4                 Missing   \n",
              "7            Emergency                 5                 Missing   \n",
              "8                Other                13                 Missing   \n",
              "9                Other                12        InternalMedicine   \n",
              "10           Emergency                 9                 Missing   \n",
              "11               Other                 7                 Missing   \n",
              "12           Emergency                 7  Family/GeneralPractice   \n",
              "13           Emergency                10  Family/GeneralPractice   \n",
              "14            Referral                 1                 Missing   \n",
              "15           Emergency                12                 Missing   \n",
              "16           Emergency                 4                 Missing   \n",
              "17           Emergency                 3              Cardiology   \n",
              "18           Emergency                 5                 Missing   \n",
              "19            Referral                 6                 Missing   \n",
              "20               Other                 2                 Missing   \n",
              "21               Other                 2                 Missing   \n",
              "22               Other                 2                 Missing   \n",
              "23            Referral                11                 Missing   \n",
              "24            Referral                 3                 Missing   \n",
              "25           Emergency                 1                 Missing   \n",
              "26           Emergency                 6              Cardiology   \n",
              "27            Referral                 2                   Other   \n",
              "28            Referral                10                 Missing   \n",
              "29           Emergency                 5              Cardiology   \n",
              "30           Emergency                 6                 Missing   \n",
              "31           Emergency                 1                 Missing   \n",
              "32           Emergency                 6  Family/GeneralPractice   \n",
              "33            Referral                 5                 Missing   \n",
              "34            Referral                 5                 Missing   \n",
              "35           Emergency                 2              Cardiology   \n",
              "36            Referral                 3                 Missing   \n",
              "37           Emergency                 4                 Missing   \n",
              "38           Emergency                 7                 Missing   \n",
              "39            Referral                 1                 Missing   \n",
              "40           Emergency                 1              Cardiology   \n",
              "41            Referral                 7                 Missing   \n",
              "42            Referral                13                 Missing   \n",
              "43           Emergency                 3  Family/GeneralPractice   \n",
              "44           Emergency                 7                 Missing   \n",
              "45            Referral                 2                 Missing   \n",
              "46               Other                 9        InternalMedicine   \n",
              "47               Other                 9                 Missing   \n",
              "48            Referral                 6                 Missing   \n",
              "49               Other                11                 Missing   \n",
              "\n",
              "    num_lab_procedures  num_procedures  num_medications  ... change  \\\n",
              "0                   41               0                1  ...     No   \n",
              "1                   59               0               18  ...     Ch   \n",
              "2                   11               5               13  ...     No   \n",
              "3                   44               1               16  ...     Ch   \n",
              "4                   51               0                8  ...     Ch   \n",
              "5                   31               6               16  ...     No   \n",
              "6                   70               1               21  ...     Ch   \n",
              "7                   73               0               12  ...     No   \n",
              "8                   68               2               28  ...     Ch   \n",
              "9                   33               3               18  ...     Ch   \n",
              "10                  47               2               17  ...     No   \n",
              "11                  62               0               11  ...     Ch   \n",
              "12                  60               0               15  ...     Ch   \n",
              "13                  55               1               31  ...     No   \n",
              "14                  49               5                2  ...     No   \n",
              "15                  75               5               13  ...     Ch   \n",
              "16                  45               4               17  ...     Ch   \n",
              "17                  29               0               11  ...     No   \n",
              "18                  35               5               23  ...     No   \n",
              "19                  42               2               23  ...     Ch   \n",
              "20                  66               1               19  ...     Ch   \n",
              "21                  36               2               11  ...     Ch   \n",
              "22                  47               0               12  ...     No   \n",
              "23                  42               2               19  ...     No   \n",
              "24                  19               4               18  ...     Ch   \n",
              "25                  33               0                7  ...     No   \n",
              "26                  64               3               18  ...     Ch   \n",
              "27                  25               2               11  ...     No   \n",
              "28                  53               0               20  ...     Ch   \n",
              "29                  52               0               14  ...     Ch   \n",
              "30                  87               0               18  ...     Ch   \n",
              "31                  53               0               10  ...     Ch   \n",
              "32                  27               0               16  ...     No   \n",
              "33                  37               0               18  ...     No   \n",
              "34                  46               2               20  ...     Ch   \n",
              "35                  41               0               11  ...     Ch   \n",
              "36                  33               1                8  ...     No   \n",
              "37                  33               0               12  ...     Ch   \n",
              "38                  47               2               22  ...     Ch   \n",
              "39                  44               1               15  ...     No   \n",
              "40                  28               0               15  ...     Ch   \n",
              "41                  36               2                9  ...     No   \n",
              "42                  48               2               18  ...     Ch   \n",
              "43                  59               0               11  ...     Ch   \n",
              "44                  72               1               27  ...     No   \n",
              "45                  10               3                8  ...     No   \n",
              "46                  25               3               16  ...     Ch   \n",
              "47                   2               0               12  ...     Ch   \n",
              "48                  65               5               19  ...     Ch   \n",
              "49                  67               2               25  ...     Ch   \n",
              "\n",
              "    diabetesMed medicare medicaid had_emergency had_inpatient_days  \\\n",
              "0            No    False    False         False              False   \n",
              "1           Yes    False    False         False              False   \n",
              "2           Yes    False    False         False               True   \n",
              "3           Yes    False    False         False              False   \n",
              "4           Yes    False    False         False              False   \n",
              "5           Yes    False    False         False              False   \n",
              "6           Yes    False    False         False              False   \n",
              "7           Yes    False    False         False              False   \n",
              "8           Yes    False    False         False              False   \n",
              "9           Yes    False    False         False              False   \n",
              "10          Yes    False    False         False              False   \n",
              "11          Yes    False    False         False              False   \n",
              "12          Yes    False    False          True              False   \n",
              "13          Yes    False    False         False              False   \n",
              "14          Yes    False    False         False              False   \n",
              "15          Yes    False    False         False              False   \n",
              "16          Yes    False    False         False              False   \n",
              "17          Yes    False    False         False              False   \n",
              "18          Yes    False    False         False              False   \n",
              "19          Yes    False    False         False              False   \n",
              "20          Yes    False    False         False              False   \n",
              "21          Yes    False    False         False              False   \n",
              "22           No    False    False         False              False   \n",
              "23           No    False    False         False              False   \n",
              "24          Yes    False    False         False              False   \n",
              "25          Yes    False    False         False              False   \n",
              "26          Yes    False    False         False              False   \n",
              "27          Yes    False    False         False              False   \n",
              "28          Yes    False    False         False              False   \n",
              "29          Yes    False    False         False              False   \n",
              "30          Yes    False    False         False              False   \n",
              "31          Yes    False    False         False              False   \n",
              "32          Yes    False    False         False              False   \n",
              "33          Yes    False    False         False              False   \n",
              "34          Yes    False    False         False              False   \n",
              "35          Yes    False    False         False              False   \n",
              "36          Yes    False    False         False              False   \n",
              "37          Yes    False    False         False              False   \n",
              "38          Yes    False    False         False              False   \n",
              "39          Yes    False    False         False              False   \n",
              "40          Yes    False    False         False              False   \n",
              "41          Yes    False    False         False              False   \n",
              "42          Yes    False    False         False               True   \n",
              "43          Yes    False    False         False              False   \n",
              "44          Yes    False    False         False              False   \n",
              "45          Yes    False    False         False              False   \n",
              "46          Yes    False    False         False               True   \n",
              "47          Yes    False    False         False               True   \n",
              "48          Yes    False    False         False              False   \n",
              "49          Yes    False    False         False              False   \n",
              "\n",
              "   had_outpatient_days  readmitted  readmit_binary  readmit_30_days  \n",
              "0                False          NO               0                0  \n",
              "1                False         >30               1                0  \n",
              "2                 True          NO               0                0  \n",
              "3                False          NO               0                0  \n",
              "4                False          NO               0                0  \n",
              "5                False         >30               1                0  \n",
              "6                False          NO               0                0  \n",
              "7                False         >30               1                0  \n",
              "8                False          NO               0                0  \n",
              "9                False          NO               0                0  \n",
              "10               False         >30               1                0  \n",
              "11               False         <30               1                1  \n",
              "12               False         <30               1                1  \n",
              "13               False          NO               0                0  \n",
              "14               False         >30               1                0  \n",
              "15               False          NO               0                0  \n",
              "16               False         <30               1                1  \n",
              "17               False          NO               0                0  \n",
              "18               False         >30               1                0  \n",
              "19               False          NO               0                0  \n",
              "20               False          NO               0                0  \n",
              "21               False          NO               0                0  \n",
              "22               False          NO               0                0  \n",
              "23               False         >30               1                0  \n",
              "24               False          NO               0                0  \n",
              "25               False          NO               0                0  \n",
              "26               False          NO               0                0  \n",
              "27               False         >30               1                0  \n",
              "28               False         >30               1                0  \n",
              "29               False         >30               1                0  \n",
              "30               False          NO               0                0  \n",
              "31               False         >30               1                0  \n",
              "32               False         >30               1                0  \n",
              "33               False         >30               1                0  \n",
              "34               False          NO               0                0  \n",
              "35               False         >30               1                0  \n",
              "36               False          NO               0                0  \n",
              "37               False         >30               1                0  \n",
              "38               False          NO               0                0  \n",
              "39               False         >30               1                0  \n",
              "40               False         >30               1                0  \n",
              "41               False         >30               1                0  \n",
              "42               False         >30               1                0  \n",
              "43               False         >30               1                0  \n",
              "44               False          NO               0                0  \n",
              "45               False          NO               0                0  \n",
              "46               False         <30               1                1  \n",
              "47               False          NO               0                0  \n",
              "48               False          NO               0                0  \n",
              "49               False          NO               0                0  \n",
              "\n",
              "[50 rows x 25 columns]"
            ],
            "text/html": [
              "\n",
              "  <div id=\"df-745932ab-4836-498a-92e6-ec778a120910\">\n",
              "    <div class=\"colab-df-container\">\n",
              "      <div>\n",
              "<style scoped>\n",
              "    .dataframe tbody tr th:only-of-type {\n",
              "        vertical-align: middle;\n",
              "    }\n",
              "\n",
              "    .dataframe tbody tr th {\n",
              "        vertical-align: top;\n",
              "    }\n",
              "\n",
              "    .dataframe thead th {\n",
              "        text-align: right;\n",
              "    }\n",
              "</style>\n",
              "<table border=\"1\" class=\"dataframe\">\n",
              "  <thead>\n",
              "    <tr style=\"text-align: right;\">\n",
              "      <th></th>\n",
              "      <th>race</th>\n",
              "      <th>gender</th>\n",
              "      <th>age</th>\n",
              "      <th>discharge_disposition_id</th>\n",
              "      <th>admission_source_id</th>\n",
              "      <th>time_in_hospital</th>\n",
              "      <th>medical_specialty</th>\n",
              "      <th>num_lab_procedures</th>\n",
              "      <th>num_procedures</th>\n",
              "      <th>num_medications</th>\n",
              "      <th>...</th>\n",
              "      <th>change</th>\n",
              "      <th>diabetesMed</th>\n",
              "      <th>medicare</th>\n",
              "      <th>medicaid</th>\n",
              "      <th>had_emergency</th>\n",
              "      <th>had_inpatient_days</th>\n",
              "      <th>had_outpatient_days</th>\n",
              "      <th>readmitted</th>\n",
              "      <th>readmit_binary</th>\n",
              "      <th>readmit_30_days</th>\n",
              "    </tr>\n",
              "  </thead>\n",
              "  <tbody>\n",
              "    <tr>\n",
              "      <th>0</th>\n",
              "      <td>Caucasian</td>\n",
              "      <td>Female</td>\n",
              "      <td>30 years or younger</td>\n",
              "      <td>Other</td>\n",
              "      <td>Referral</td>\n",
              "      <td>1</td>\n",
              "      <td>Other</td>\n",
              "      <td>41</td>\n",
              "      <td>0</td>\n",
              "      <td>1</td>\n",
              "      <td>...</td>\n",
              "      <td>No</td>\n",
              "      <td>No</td>\n",
              "      <td>False</td>\n",
              "      <td>False</td>\n",
              "      <td>False</td>\n",
              "      <td>False</td>\n",
              "      <td>False</td>\n",
              "      <td>NO</td>\n",
              "      <td>0</td>\n",
              "      <td>0</td>\n",
              "    </tr>\n",
              "    <tr>\n",
              "      <th>1</th>\n",
              "      <td>Caucasian</td>\n",
              "      <td>Female</td>\n",
              "      <td>30 years or younger</td>\n",
              "      <td>Discharged to Home</td>\n",
              "      <td>Emergency</td>\n",
              "      <td>3</td>\n",
              "      <td>Missing</td>\n",
              "      <td>59</td>\n",
              "      <td>0</td>\n",
              "      <td>18</td>\n",
              "      <td>...</td>\n",
              "      <td>Ch</td>\n",
              "      <td>Yes</td>\n",
              "      <td>False</td>\n",
              "      <td>False</td>\n",
              "      <td>False</td>\n",
              "      <td>False</td>\n",
              "      <td>False</td>\n",
              "      <td>&gt;30</td>\n",
              "      <td>1</td>\n",
              "      <td>0</td>\n",
              "    </tr>\n",
              "    <tr>\n",
              "      <th>2</th>\n",
              "      <td>AfricanAmerican</td>\n",
              "      <td>Female</td>\n",
              "      <td>30 years or younger</td>\n",
              "      <td>Discharged to Home</td>\n",
              "      <td>Emergency</td>\n",
              "      <td>2</td>\n",
              "      <td>Missing</td>\n",
              "      <td>11</td>\n",
              "      <td>5</td>\n",
              "      <td>13</td>\n",
              "      <td>...</td>\n",
              "      <td>No</td>\n",
              "      <td>Yes</td>\n",
              "      <td>False</td>\n",
              "      <td>False</td>\n",
              "      <td>False</td>\n",
              "      <td>True</td>\n",
              "      <td>True</td>\n",
              "      <td>NO</td>\n",
              "      <td>0</td>\n",
              "      <td>0</td>\n",
              "    </tr>\n",
              "    <tr>\n",
              "      <th>3</th>\n",
              "      <td>Caucasian</td>\n",
              "      <td>Male</td>\n",
              "      <td>30-60 years</td>\n",
              "      <td>Discharged to Home</td>\n",
              "      <td>Emergency</td>\n",
              "      <td>2</td>\n",
              "      <td>Missing</td>\n",
              "      <td>44</td>\n",
              "      <td>1</td>\n",
              "      <td>16</td>\n",
              "      <td>...</td>\n",
              "      <td>Ch</td>\n",
              "      <td>Yes</td>\n",
              "      <td>False</td>\n",
              "      <td>False</td>\n",
              "      <td>False</td>\n",
              "      <td>False</td>\n",
              "      <td>False</td>\n",
              "      <td>NO</td>\n",
              "      <td>0</td>\n",
              "      <td>0</td>\n",
              "    </tr>\n",
              "    <tr>\n",
              "      <th>4</th>\n",
              "      <td>Caucasian</td>\n",
              "      <td>Male</td>\n",
              "      <td>30-60 years</td>\n",
              "      <td>Discharged to Home</td>\n",
              "      <td>Emergency</td>\n",
              "      <td>1</td>\n",
              "      <td>Missing</td>\n",
              "      <td>51</td>\n",
              "      <td>0</td>\n",
              "      <td>8</td>\n",
              "      <td>...</td>\n",
              "      <td>Ch</td>\n",
              "      <td>Yes</td>\n",
              "      <td>False</td>\n",
              "      <td>False</td>\n",
              "      <td>False</td>\n",
              "      <td>False</td>\n",
              "      <td>False</td>\n",
              "      <td>NO</td>\n",
              "      <td>0</td>\n",
              "      <td>0</td>\n",
              "    </tr>\n",
              "    <tr>\n",
              "      <th>5</th>\n",
              "      <td>Caucasian</td>\n",
              "      <td>Male</td>\n",
              "      <td>30-60 years</td>\n",
              "      <td>Discharged to Home</td>\n",
              "      <td>Referral</td>\n",
              "      <td>3</td>\n",
              "      <td>Missing</td>\n",
              "      <td>31</td>\n",
              "      <td>6</td>\n",
              "      <td>16</td>\n",
              "      <td>...</td>\n",
              "      <td>No</td>\n",
              "      <td>Yes</td>\n",
              "      <td>False</td>\n",
              "      <td>False</td>\n",
              "      <td>False</td>\n",
              "      <td>False</td>\n",
              "      <td>False</td>\n",
              "      <td>&gt;30</td>\n",
              "      <td>1</td>\n",
              "      <td>0</td>\n",
              "    </tr>\n",
              "    <tr>\n",
              "      <th>6</th>\n",
              "      <td>Caucasian</td>\n",
              "      <td>Male</td>\n",
              "      <td>Over 60 years</td>\n",
              "      <td>Discharged to Home</td>\n",
              "      <td>Referral</td>\n",
              "      <td>4</td>\n",
              "      <td>Missing</td>\n",
              "      <td>70</td>\n",
              "      <td>1</td>\n",
              "      <td>21</td>\n",
              "      <td>...</td>\n",
              "      <td>Ch</td>\n",
              "      <td>Yes</td>\n",
              "      <td>False</td>\n",
              "      <td>False</td>\n",
              "      <td>False</td>\n",
              "      <td>False</td>\n",
              "      <td>False</td>\n",
              "      <td>NO</td>\n",
              "      <td>0</td>\n",
              "      <td>0</td>\n",
              "    </tr>\n",
              "    <tr>\n",
              "      <th>7</th>\n",
              "      <td>Caucasian</td>\n",
              "      <td>Male</td>\n",
              "      <td>Over 60 years</td>\n",
              "      <td>Discharged to Home</td>\n",
              "      <td>Emergency</td>\n",
              "      <td>5</td>\n",
              "      <td>Missing</td>\n",
              "      <td>73</td>\n",
              "      <td>0</td>\n",
              "      <td>12</td>\n",
              "      <td>...</td>\n",
              "      <td>No</td>\n",
              "      <td>Yes</td>\n",
              "      <td>False</td>\n",
              "      <td>False</td>\n",
              "      <td>False</td>\n",
              "      <td>False</td>\n",
              "      <td>False</td>\n",
              "      <td>&gt;30</td>\n",
              "      <td>1</td>\n",
              "      <td>0</td>\n",
              "    </tr>\n",
              "    <tr>\n",
              "      <th>8</th>\n",
              "      <td>Caucasian</td>\n",
              "      <td>Female</td>\n",
              "      <td>Over 60 years</td>\n",
              "      <td>Discharged to Home</td>\n",
              "      <td>Other</td>\n",
              "      <td>13</td>\n",
              "      <td>Missing</td>\n",
              "      <td>68</td>\n",
              "      <td>2</td>\n",
              "      <td>28</td>\n",
              "      <td>...</td>\n",
              "      <td>Ch</td>\n",
              "      <td>Yes</td>\n",
              "      <td>False</td>\n",
              "      <td>False</td>\n",
              "      <td>False</td>\n",
              "      <td>False</td>\n",
              "      <td>False</td>\n",
              "      <td>NO</td>\n",
              "      <td>0</td>\n",
              "      <td>0</td>\n",
              "    </tr>\n",
              "    <tr>\n",
              "      <th>9</th>\n",
              "      <td>Caucasian</td>\n",
              "      <td>Female</td>\n",
              "      <td>Over 60 years</td>\n",
              "      <td>Other</td>\n",
              "      <td>Other</td>\n",
              "      <td>12</td>\n",
              "      <td>InternalMedicine</td>\n",
              "      <td>33</td>\n",
              "      <td>3</td>\n",
              "      <td>18</td>\n",
              "      <td>...</td>\n",
              "      <td>Ch</td>\n",
              "      <td>Yes</td>\n",
              "      <td>False</td>\n",
              "      <td>False</td>\n",
              "      <td>False</td>\n",
              "      <td>False</td>\n",
              "      <td>False</td>\n",
              "      <td>NO</td>\n",
              "      <td>0</td>\n",
              "      <td>0</td>\n",
              "    </tr>\n",
              "    <tr>\n",
              "      <th>10</th>\n",
              "      <td>AfricanAmerican</td>\n",
              "      <td>Female</td>\n",
              "      <td>30-60 years</td>\n",
              "      <td>Discharged to Home</td>\n",
              "      <td>Emergency</td>\n",
              "      <td>9</td>\n",
              "      <td>Missing</td>\n",
              "      <td>47</td>\n",
              "      <td>2</td>\n",
              "      <td>17</td>\n",
              "      <td>...</td>\n",
              "      <td>No</td>\n",
              "      <td>Yes</td>\n",
              "      <td>False</td>\n",
              "      <td>False</td>\n",
              "      <td>False</td>\n",
              "      <td>False</td>\n",
              "      <td>False</td>\n",
              "      <td>&gt;30</td>\n",
              "      <td>1</td>\n",
              "      <td>0</td>\n",
              "    </tr>\n",
              "    <tr>\n",
              "      <th>11</th>\n",
              "      <td>AfricanAmerican</td>\n",
              "      <td>Male</td>\n",
              "      <td>Over 60 years</td>\n",
              "      <td>Discharged to Home</td>\n",
              "      <td>Other</td>\n",
              "      <td>7</td>\n",
              "      <td>Missing</td>\n",
              "      <td>62</td>\n",
              "      <td>0</td>\n",
              "      <td>11</td>\n",
              "      <td>...</td>\n",
              "      <td>Ch</td>\n",
              "      <td>Yes</td>\n",
              "      <td>False</td>\n",
              "      <td>False</td>\n",
              "      <td>False</td>\n",
              "      <td>False</td>\n",
              "      <td>False</td>\n",
              "      <td>&lt;30</td>\n",
              "      <td>1</td>\n",
              "      <td>1</td>\n",
              "    </tr>\n",
              "    <tr>\n",
              "      <th>12</th>\n",
              "      <td>Caucasian</td>\n",
              "      <td>Female</td>\n",
              "      <td>30-60 years</td>\n",
              "      <td>Other</td>\n",
              "      <td>Emergency</td>\n",
              "      <td>7</td>\n",
              "      <td>Family/GeneralPractice</td>\n",
              "      <td>60</td>\n",
              "      <td>0</td>\n",
              "      <td>15</td>\n",
              "      <td>...</td>\n",
              "      <td>Ch</td>\n",
              "      <td>Yes</td>\n",
              "      <td>False</td>\n",
              "      <td>False</td>\n",
              "      <td>True</td>\n",
              "      <td>False</td>\n",
              "      <td>False</td>\n",
              "      <td>&lt;30</td>\n",
              "      <td>1</td>\n",
              "      <td>1</td>\n",
              "    </tr>\n",
              "    <tr>\n",
              "      <th>13</th>\n",
              "      <td>Caucasian</td>\n",
              "      <td>Male</td>\n",
              "      <td>Over 60 years</td>\n",
              "      <td>Other</td>\n",
              "      <td>Emergency</td>\n",
              "      <td>10</td>\n",
              "      <td>Family/GeneralPractice</td>\n",
              "      <td>55</td>\n",
              "      <td>1</td>\n",
              "      <td>31</td>\n",
              "      <td>...</td>\n",
              "      <td>No</td>\n",
              "      <td>Yes</td>\n",
              "      <td>False</td>\n",
              "      <td>False</td>\n",
              "      <td>False</td>\n",
              "      <td>False</td>\n",
              "      <td>False</td>\n",
              "      <td>NO</td>\n",
              "      <td>0</td>\n",
              "      <td>0</td>\n",
              "    </tr>\n",
              "    <tr>\n",
              "      <th>14</th>\n",
              "      <td>AfricanAmerican</td>\n",
              "      <td>Female</td>\n",
              "      <td>Over 60 years</td>\n",
              "      <td>Discharged to Home</td>\n",
              "      <td>Referral</td>\n",
              "      <td>1</td>\n",
              "      <td>Missing</td>\n",
              "      <td>49</td>\n",
              "      <td>5</td>\n",
              "      <td>2</td>\n",
              "      <td>...</td>\n",
              "      <td>No</td>\n",
              "      <td>Yes</td>\n",
              "      <td>False</td>\n",
              "      <td>False</td>\n",
              "      <td>False</td>\n",
              "      <td>False</td>\n",
              "      <td>False</td>\n",
              "      <td>&gt;30</td>\n",
              "      <td>1</td>\n",
              "      <td>0</td>\n",
              "    </tr>\n",
              "    <tr>\n",
              "      <th>15</th>\n",
              "      <td>AfricanAmerican</td>\n",
              "      <td>Male</td>\n",
              "      <td>Over 60 years</td>\n",
              "      <td>Other</td>\n",
              "      <td>Emergency</td>\n",
              "      <td>12</td>\n",
              "      <td>Missing</td>\n",
              "      <td>75</td>\n",
              "      <td>5</td>\n",
              "      <td>13</td>\n",
              "      <td>...</td>\n",
              "      <td>Ch</td>\n",
              "      <td>Yes</td>\n",
              "      <td>False</td>\n",
              "      <td>False</td>\n",
              "      <td>False</td>\n",
              "      <td>False</td>\n",
              "      <td>False</td>\n",
              "      <td>NO</td>\n",
              "      <td>0</td>\n",
              "      <td>0</td>\n",
              "    </tr>\n",
              "    <tr>\n",
              "      <th>16</th>\n",
              "      <td>AfricanAmerican</td>\n",
              "      <td>Male</td>\n",
              "      <td>30-60 years</td>\n",
              "      <td>Discharged to Home</td>\n",
              "      <td>Emergency</td>\n",
              "      <td>4</td>\n",
              "      <td>Missing</td>\n",
              "      <td>45</td>\n",
              "      <td>4</td>\n",
              "      <td>17</td>\n",
              "      <td>...</td>\n",
              "      <td>Ch</td>\n",
              "      <td>Yes</td>\n",
              "      <td>False</td>\n",
              "      <td>False</td>\n",
              "      <td>False</td>\n",
              "      <td>False</td>\n",
              "      <td>False</td>\n",
              "      <td>&lt;30</td>\n",
              "      <td>1</td>\n",
              "      <td>1</td>\n",
              "    </tr>\n",
              "    <tr>\n",
              "      <th>17</th>\n",
              "      <td>Caucasian</td>\n",
              "      <td>Female</td>\n",
              "      <td>30-60 years</td>\n",
              "      <td>Discharged to Home</td>\n",
              "      <td>Emergency</td>\n",
              "      <td>3</td>\n",
              "      <td>Cardiology</td>\n",
              "      <td>29</td>\n",
              "      <td>0</td>\n",
              "      <td>11</td>\n",
              "      <td>...</td>\n",
              "      <td>No</td>\n",
              "      <td>Yes</td>\n",
              "      <td>False</td>\n",
              "      <td>False</td>\n",
              "      <td>False</td>\n",
              "      <td>False</td>\n",
              "      <td>False</td>\n",
              "      <td>NO</td>\n",
              "      <td>0</td>\n",
              "      <td>0</td>\n",
              "    </tr>\n",
              "    <tr>\n",
              "      <th>18</th>\n",
              "      <td>AfricanAmerican</td>\n",
              "      <td>Male</td>\n",
              "      <td>Over 60 years</td>\n",
              "      <td>Discharged to Home</td>\n",
              "      <td>Emergency</td>\n",
              "      <td>5</td>\n",
              "      <td>Missing</td>\n",
              "      <td>35</td>\n",
              "      <td>5</td>\n",
              "      <td>23</td>\n",
              "      <td>...</td>\n",
              "      <td>No</td>\n",
              "      <td>Yes</td>\n",
              "      <td>False</td>\n",
              "      <td>False</td>\n",
              "      <td>False</td>\n",
              "      <td>False</td>\n",
              "      <td>False</td>\n",
              "      <td>&gt;30</td>\n",
              "      <td>1</td>\n",
              "      <td>0</td>\n",
              "    </tr>\n",
              "    <tr>\n",
              "      <th>19</th>\n",
              "      <td>Unknown</td>\n",
              "      <td>Male</td>\n",
              "      <td>Over 60 years</td>\n",
              "      <td>Other</td>\n",
              "      <td>Referral</td>\n",
              "      <td>6</td>\n",
              "      <td>Missing</td>\n",
              "      <td>42</td>\n",
              "      <td>2</td>\n",
              "      <td>23</td>\n",
              "      <td>...</td>\n",
              "      <td>Ch</td>\n",
              "      <td>Yes</td>\n",
              "      <td>False</td>\n",
              "      <td>False</td>\n",
              "      <td>False</td>\n",
              "      <td>False</td>\n",
              "      <td>False</td>\n",
              "      <td>NO</td>\n",
              "      <td>0</td>\n",
              "      <td>0</td>\n",
              "    </tr>\n",
              "    <tr>\n",
              "      <th>20</th>\n",
              "      <td>Unknown</td>\n",
              "      <td>Female</td>\n",
              "      <td>30-60 years</td>\n",
              "      <td>Discharged to Home</td>\n",
              "      <td>Other</td>\n",
              "      <td>2</td>\n",
              "      <td>Missing</td>\n",
              "      <td>66</td>\n",
              "      <td>1</td>\n",
              "      <td>19</td>\n",
              "      <td>...</td>\n",
              "      <td>Ch</td>\n",
              "      <td>Yes</td>\n",
              "      <td>False</td>\n",
              "      <td>False</td>\n",
              "      <td>False</td>\n",
              "      <td>False</td>\n",
              "      <td>False</td>\n",
              "      <td>NO</td>\n",
              "      <td>0</td>\n",
              "      <td>0</td>\n",
              "    </tr>\n",
              "    <tr>\n",
              "      <th>21</th>\n",
              "      <td>Unknown</td>\n",
              "      <td>Male</td>\n",
              "      <td>Over 60 years</td>\n",
              "      <td>Discharged to Home</td>\n",
              "      <td>Other</td>\n",
              "      <td>2</td>\n",
              "      <td>Missing</td>\n",
              "      <td>36</td>\n",
              "      <td>2</td>\n",
              "      <td>11</td>\n",
              "      <td>...</td>\n",
              "      <td>Ch</td>\n",
              "      <td>Yes</td>\n",
              "      <td>False</td>\n",
              "      <td>False</td>\n",
              "      <td>False</td>\n",
              "      <td>False</td>\n",
              "      <td>False</td>\n",
              "      <td>NO</td>\n",
              "      <td>0</td>\n",
              "      <td>0</td>\n",
              "    </tr>\n",
              "    <tr>\n",
              "      <th>22</th>\n",
              "      <td>AfricanAmerican</td>\n",
              "      <td>Female</td>\n",
              "      <td>Over 60 years</td>\n",
              "      <td>Discharged to Home</td>\n",
              "      <td>Other</td>\n",
              "      <td>2</td>\n",
              "      <td>Missing</td>\n",
              "      <td>47</td>\n",
              "      <td>0</td>\n",
              "      <td>12</td>\n",
              "      <td>...</td>\n",
              "      <td>No</td>\n",
              "      <td>No</td>\n",
              "      <td>False</td>\n",
              "      <td>False</td>\n",
              "      <td>False</td>\n",
              "      <td>False</td>\n",
              "      <td>False</td>\n",
              "      <td>NO</td>\n",
              "      <td>0</td>\n",
              "      <td>0</td>\n",
              "    </tr>\n",
              "    <tr>\n",
              "      <th>23</th>\n",
              "      <td>Caucasian</td>\n",
              "      <td>Female</td>\n",
              "      <td>Over 60 years</td>\n",
              "      <td>Other</td>\n",
              "      <td>Referral</td>\n",
              "      <td>11</td>\n",
              "      <td>Missing</td>\n",
              "      <td>42</td>\n",
              "      <td>2</td>\n",
              "      <td>19</td>\n",
              "      <td>...</td>\n",
              "      <td>No</td>\n",
              "      <td>No</td>\n",
              "      <td>False</td>\n",
              "      <td>False</td>\n",
              "      <td>False</td>\n",
              "      <td>False</td>\n",
              "      <td>False</td>\n",
              "      <td>&gt;30</td>\n",
              "      <td>1</td>\n",
              "      <td>0</td>\n",
              "    </tr>\n",
              "    <tr>\n",
              "      <th>24</th>\n",
              "      <td>AfricanAmerican</td>\n",
              "      <td>Female</td>\n",
              "      <td>Over 60 years</td>\n",
              "      <td>Discharged to Home</td>\n",
              "      <td>Referral</td>\n",
              "      <td>3</td>\n",
              "      <td>Missing</td>\n",
              "      <td>19</td>\n",
              "      <td>4</td>\n",
              "      <td>18</td>\n",
              "      <td>...</td>\n",
              "      <td>Ch</td>\n",
              "      <td>Yes</td>\n",
              "      <td>False</td>\n",
              "      <td>False</td>\n",
              "      <td>False</td>\n",
              "      <td>False</td>\n",
              "      <td>False</td>\n",
              "      <td>NO</td>\n",
              "      <td>0</td>\n",
              "      <td>0</td>\n",
              "    </tr>\n",
              "    <tr>\n",
              "      <th>25</th>\n",
              "      <td>Other</td>\n",
              "      <td>Female</td>\n",
              "      <td>30-60 years</td>\n",
              "      <td>Discharged to Home</td>\n",
              "      <td>Emergency</td>\n",
              "      <td>1</td>\n",
              "      <td>Missing</td>\n",
              "      <td>33</td>\n",
              "      <td>0</td>\n",
              "      <td>7</td>\n",
              "      <td>...</td>\n",
              "      <td>No</td>\n",
              "      <td>Yes</td>\n",
              "      <td>False</td>\n",
              "      <td>False</td>\n",
              "      <td>False</td>\n",
              "      <td>False</td>\n",
              "      <td>False</td>\n",
              "      <td>NO</td>\n",
              "      <td>0</td>\n",
              "      <td>0</td>\n",
              "    </tr>\n",
              "    <tr>\n",
              "      <th>26</th>\n",
              "      <td>Caucasian</td>\n",
              "      <td>Male</td>\n",
              "      <td>Over 60 years</td>\n",
              "      <td>Other</td>\n",
              "      <td>Emergency</td>\n",
              "      <td>6</td>\n",
              "      <td>Cardiology</td>\n",
              "      <td>64</td>\n",
              "      <td>3</td>\n",
              "      <td>18</td>\n",
              "      <td>...</td>\n",
              "      <td>Ch</td>\n",
              "      <td>Yes</td>\n",
              "      <td>False</td>\n",
              "      <td>False</td>\n",
              "      <td>False</td>\n",
              "      <td>False</td>\n",
              "      <td>False</td>\n",
              "      <td>NO</td>\n",
              "      <td>0</td>\n",
              "      <td>0</td>\n",
              "    </tr>\n",
              "    <tr>\n",
              "      <th>27</th>\n",
              "      <td>Caucasian</td>\n",
              "      <td>Female</td>\n",
              "      <td>30-60 years</td>\n",
              "      <td>Discharged to Home</td>\n",
              "      <td>Referral</td>\n",
              "      <td>2</td>\n",
              "      <td>Other</td>\n",
              "      <td>25</td>\n",
              "      <td>2</td>\n",
              "      <td>11</td>\n",
              "      <td>...</td>\n",
              "      <td>No</td>\n",
              "      <td>Yes</td>\n",
              "      <td>False</td>\n",
              "      <td>False</td>\n",
              "      <td>False</td>\n",
              "      <td>False</td>\n",
              "      <td>False</td>\n",
              "      <td>&gt;30</td>\n",
              "      <td>1</td>\n",
              "      <td>0</td>\n",
              "    </tr>\n",
              "    <tr>\n",
              "      <th>28</th>\n",
              "      <td>Caucasian</td>\n",
              "      <td>Male</td>\n",
              "      <td>30 years or younger</td>\n",
              "      <td>Discharged to Home</td>\n",
              "      <td>Referral</td>\n",
              "      <td>10</td>\n",
              "      <td>Missing</td>\n",
              "      <td>53</td>\n",
              "      <td>0</td>\n",
              "      <td>20</td>\n",
              "      <td>...</td>\n",
              "      <td>Ch</td>\n",
              "      <td>Yes</td>\n",
              "      <td>False</td>\n",
              "      <td>False</td>\n",
              "      <td>False</td>\n",
              "      <td>False</td>\n",
              "      <td>False</td>\n",
              "      <td>&gt;30</td>\n",
              "      <td>1</td>\n",
              "      <td>0</td>\n",
              "    </tr>\n",
              "    <tr>\n",
              "      <th>29</th>\n",
              "      <td>Caucasian</td>\n",
              "      <td>Female</td>\n",
              "      <td>Over 60 years</td>\n",
              "      <td>Other</td>\n",
              "      <td>Emergency</td>\n",
              "      <td>5</td>\n",
              "      <td>Cardiology</td>\n",
              "      <td>52</td>\n",
              "      <td>0</td>\n",
              "      <td>14</td>\n",
              "      <td>...</td>\n",
              "      <td>Ch</td>\n",
              "      <td>Yes</td>\n",
              "      <td>False</td>\n",
              "      <td>False</td>\n",
              "      <td>False</td>\n",
              "      <td>False</td>\n",
              "      <td>False</td>\n",
              "      <td>&gt;30</td>\n",
              "      <td>1</td>\n",
              "      <td>0</td>\n",
              "    </tr>\n",
              "    <tr>\n",
              "      <th>30</th>\n",
              "      <td>AfricanAmerican</td>\n",
              "      <td>Female</td>\n",
              "      <td>Over 60 years</td>\n",
              "      <td>Discharged to Home</td>\n",
              "      <td>Emergency</td>\n",
              "      <td>6</td>\n",
              "      <td>Missing</td>\n",
              "      <td>87</td>\n",
              "      <td>0</td>\n",
              "      <td>18</td>\n",
              "      <td>...</td>\n",
              "      <td>Ch</td>\n",
              "      <td>Yes</td>\n",
              "      <td>False</td>\n",
              "      <td>False</td>\n",
              "      <td>False</td>\n",
              "      <td>False</td>\n",
              "      <td>False</td>\n",
              "      <td>NO</td>\n",
              "      <td>0</td>\n",
              "      <td>0</td>\n",
              "    </tr>\n",
              "    <tr>\n",
              "      <th>31</th>\n",
              "      <td>AfricanAmerican</td>\n",
              "      <td>Male</td>\n",
              "      <td>Over 60 years</td>\n",
              "      <td>Other</td>\n",
              "      <td>Emergency</td>\n",
              "      <td>1</td>\n",
              "      <td>Missing</td>\n",
              "      <td>53</td>\n",
              "      <td>0</td>\n",
              "      <td>10</td>\n",
              "      <td>...</td>\n",
              "      <td>Ch</td>\n",
              "      <td>Yes</td>\n",
              "      <td>False</td>\n",
              "      <td>False</td>\n",
              "      <td>False</td>\n",
              "      <td>False</td>\n",
              "      <td>False</td>\n",
              "      <td>&gt;30</td>\n",
              "      <td>1</td>\n",
              "      <td>0</td>\n",
              "    </tr>\n",
              "    <tr>\n",
              "      <th>32</th>\n",
              "      <td>Caucasian</td>\n",
              "      <td>Female</td>\n",
              "      <td>Over 60 years</td>\n",
              "      <td>Discharged to Home</td>\n",
              "      <td>Emergency</td>\n",
              "      <td>6</td>\n",
              "      <td>Family/GeneralPractice</td>\n",
              "      <td>27</td>\n",
              "      <td>0</td>\n",
              "      <td>16</td>\n",
              "      <td>...</td>\n",
              "      <td>No</td>\n",
              "      <td>Yes</td>\n",
              "      <td>False</td>\n",
              "      <td>False</td>\n",
              "      <td>False</td>\n",
              "      <td>False</td>\n",
              "      <td>False</td>\n",
              "      <td>&gt;30</td>\n",
              "      <td>1</td>\n",
              "      <td>0</td>\n",
              "    </tr>\n",
              "    <tr>\n",
              "      <th>33</th>\n",
              "      <td>Caucasian</td>\n",
              "      <td>Male</td>\n",
              "      <td>Over 60 years</td>\n",
              "      <td>Other</td>\n",
              "      <td>Referral</td>\n",
              "      <td>5</td>\n",
              "      <td>Missing</td>\n",
              "      <td>37</td>\n",
              "      <td>0</td>\n",
              "      <td>18</td>\n",
              "      <td>...</td>\n",
              "      <td>No</td>\n",
              "      <td>Yes</td>\n",
              "      <td>False</td>\n",
              "      <td>False</td>\n",
              "      <td>False</td>\n",
              "      <td>False</td>\n",
              "      <td>False</td>\n",
              "      <td>&gt;30</td>\n",
              "      <td>1</td>\n",
              "      <td>0</td>\n",
              "    </tr>\n",
              "    <tr>\n",
              "      <th>34</th>\n",
              "      <td>Caucasian</td>\n",
              "      <td>Female</td>\n",
              "      <td>Over 60 years</td>\n",
              "      <td>Other</td>\n",
              "      <td>Referral</td>\n",
              "      <td>5</td>\n",
              "      <td>Missing</td>\n",
              "      <td>46</td>\n",
              "      <td>2</td>\n",
              "      <td>20</td>\n",
              "      <td>...</td>\n",
              "      <td>Ch</td>\n",
              "      <td>Yes</td>\n",
              "      <td>False</td>\n",
              "      <td>False</td>\n",
              "      <td>False</td>\n",
              "      <td>False</td>\n",
              "      <td>False</td>\n",
              "      <td>NO</td>\n",
              "      <td>0</td>\n",
              "      <td>0</td>\n",
              "    </tr>\n",
              "    <tr>\n",
              "      <th>35</th>\n",
              "      <td>Caucasian</td>\n",
              "      <td>Female</td>\n",
              "      <td>Over 60 years</td>\n",
              "      <td>Discharged to Home</td>\n",
              "      <td>Emergency</td>\n",
              "      <td>2</td>\n",
              "      <td>Cardiology</td>\n",
              "      <td>41</td>\n",
              "      <td>0</td>\n",
              "      <td>11</td>\n",
              "      <td>...</td>\n",
              "      <td>Ch</td>\n",
              "      <td>Yes</td>\n",
              "      <td>False</td>\n",
              "      <td>False</td>\n",
              "      <td>False</td>\n",
              "      <td>False</td>\n",
              "      <td>False</td>\n",
              "      <td>&gt;30</td>\n",
              "      <td>1</td>\n",
              "      <td>0</td>\n",
              "    </tr>\n",
              "    <tr>\n",
              "      <th>36</th>\n",
              "      <td>Caucasian</td>\n",
              "      <td>Female</td>\n",
              "      <td>Over 60 years</td>\n",
              "      <td>Discharged to Home</td>\n",
              "      <td>Referral</td>\n",
              "      <td>3</td>\n",
              "      <td>Missing</td>\n",
              "      <td>33</td>\n",
              "      <td>1</td>\n",
              "      <td>8</td>\n",
              "      <td>...</td>\n",
              "      <td>No</td>\n",
              "      <td>Yes</td>\n",
              "      <td>False</td>\n",
              "      <td>False</td>\n",
              "      <td>False</td>\n",
              "      <td>False</td>\n",
              "      <td>False</td>\n",
              "      <td>NO</td>\n",
              "      <td>0</td>\n",
              "      <td>0</td>\n",
              "    </tr>\n",
              "    <tr>\n",
              "      <th>37</th>\n",
              "      <td>Caucasian</td>\n",
              "      <td>Female</td>\n",
              "      <td>Over 60 years</td>\n",
              "      <td>Discharged to Home</td>\n",
              "      <td>Emergency</td>\n",
              "      <td>4</td>\n",
              "      <td>Missing</td>\n",
              "      <td>33</td>\n",
              "      <td>0</td>\n",
              "      <td>12</td>\n",
              "      <td>...</td>\n",
              "      <td>Ch</td>\n",
              "      <td>Yes</td>\n",
              "      <td>False</td>\n",
              "      <td>False</td>\n",
              "      <td>False</td>\n",
              "      <td>False</td>\n",
              "      <td>False</td>\n",
              "      <td>&gt;30</td>\n",
              "      <td>1</td>\n",
              "      <td>0</td>\n",
              "    </tr>\n",
              "    <tr>\n",
              "      <th>38</th>\n",
              "      <td>Caucasian</td>\n",
              "      <td>Male</td>\n",
              "      <td>Over 60 years</td>\n",
              "      <td>Other</td>\n",
              "      <td>Emergency</td>\n",
              "      <td>7</td>\n",
              "      <td>Missing</td>\n",
              "      <td>47</td>\n",
              "      <td>2</td>\n",
              "      <td>22</td>\n",
              "      <td>...</td>\n",
              "      <td>Ch</td>\n",
              "      <td>Yes</td>\n",
              "      <td>False</td>\n",
              "      <td>False</td>\n",
              "      <td>False</td>\n",
              "      <td>False</td>\n",
              "      <td>False</td>\n",
              "      <td>NO</td>\n",
              "      <td>0</td>\n",
              "      <td>0</td>\n",
              "    </tr>\n",
              "    <tr>\n",
              "      <th>39</th>\n",
              "      <td>Caucasian</td>\n",
              "      <td>Male</td>\n",
              "      <td>30-60 years</td>\n",
              "      <td>Discharged to Home</td>\n",
              "      <td>Referral</td>\n",
              "      <td>1</td>\n",
              "      <td>Missing</td>\n",
              "      <td>44</td>\n",
              "      <td>1</td>\n",
              "      <td>15</td>\n",
              "      <td>...</td>\n",
              "      <td>No</td>\n",
              "      <td>Yes</td>\n",
              "      <td>False</td>\n",
              "      <td>False</td>\n",
              "      <td>False</td>\n",
              "      <td>False</td>\n",
              "      <td>False</td>\n",
              "      <td>&gt;30</td>\n",
              "      <td>1</td>\n",
              "      <td>0</td>\n",
              "    </tr>\n",
              "    <tr>\n",
              "      <th>40</th>\n",
              "      <td>Caucasian</td>\n",
              "      <td>Female</td>\n",
              "      <td>Over 60 years</td>\n",
              "      <td>Other</td>\n",
              "      <td>Emergency</td>\n",
              "      <td>1</td>\n",
              "      <td>Cardiology</td>\n",
              "      <td>28</td>\n",
              "      <td>0</td>\n",
              "      <td>15</td>\n",
              "      <td>...</td>\n",
              "      <td>Ch</td>\n",
              "      <td>Yes</td>\n",
              "      <td>False</td>\n",
              "      <td>False</td>\n",
              "      <td>False</td>\n",
              "      <td>False</td>\n",
              "      <td>False</td>\n",
              "      <td>&gt;30</td>\n",
              "      <td>1</td>\n",
              "      <td>0</td>\n",
              "    </tr>\n",
              "    <tr>\n",
              "      <th>41</th>\n",
              "      <td>Caucasian</td>\n",
              "      <td>Male</td>\n",
              "      <td>30-60 years</td>\n",
              "      <td>Discharged to Home</td>\n",
              "      <td>Referral</td>\n",
              "      <td>7</td>\n",
              "      <td>Missing</td>\n",
              "      <td>36</td>\n",
              "      <td>2</td>\n",
              "      <td>9</td>\n",
              "      <td>...</td>\n",
              "      <td>No</td>\n",
              "      <td>Yes</td>\n",
              "      <td>False</td>\n",
              "      <td>False</td>\n",
              "      <td>False</td>\n",
              "      <td>False</td>\n",
              "      <td>False</td>\n",
              "      <td>&gt;30</td>\n",
              "      <td>1</td>\n",
              "      <td>0</td>\n",
              "    </tr>\n",
              "    <tr>\n",
              "      <th>42</th>\n",
              "      <td>Caucasian</td>\n",
              "      <td>Female</td>\n",
              "      <td>Over 60 years</td>\n",
              "      <td>Discharged to Home</td>\n",
              "      <td>Referral</td>\n",
              "      <td>13</td>\n",
              "      <td>Missing</td>\n",
              "      <td>48</td>\n",
              "      <td>2</td>\n",
              "      <td>18</td>\n",
              "      <td>...</td>\n",
              "      <td>Ch</td>\n",
              "      <td>Yes</td>\n",
              "      <td>False</td>\n",
              "      <td>False</td>\n",
              "      <td>False</td>\n",
              "      <td>True</td>\n",
              "      <td>False</td>\n",
              "      <td>&gt;30</td>\n",
              "      <td>1</td>\n",
              "      <td>0</td>\n",
              "    </tr>\n",
              "    <tr>\n",
              "      <th>43</th>\n",
              "      <td>Caucasian</td>\n",
              "      <td>Male</td>\n",
              "      <td>30-60 years</td>\n",
              "      <td>Discharged to Home</td>\n",
              "      <td>Emergency</td>\n",
              "      <td>3</td>\n",
              "      <td>Family/GeneralPractice</td>\n",
              "      <td>59</td>\n",
              "      <td>0</td>\n",
              "      <td>11</td>\n",
              "      <td>...</td>\n",
              "      <td>Ch</td>\n",
              "      <td>Yes</td>\n",
              "      <td>False</td>\n",
              "      <td>False</td>\n",
              "      <td>False</td>\n",
              "      <td>False</td>\n",
              "      <td>False</td>\n",
              "      <td>&gt;30</td>\n",
              "      <td>1</td>\n",
              "      <td>0</td>\n",
              "    </tr>\n",
              "    <tr>\n",
              "      <th>44</th>\n",
              "      <td>Caucasian</td>\n",
              "      <td>Female</td>\n",
              "      <td>Over 60 years</td>\n",
              "      <td>Other</td>\n",
              "      <td>Emergency</td>\n",
              "      <td>7</td>\n",
              "      <td>Missing</td>\n",
              "      <td>72</td>\n",
              "      <td>1</td>\n",
              "      <td>27</td>\n",
              "      <td>...</td>\n",
              "      <td>No</td>\n",
              "      <td>Yes</td>\n",
              "      <td>False</td>\n",
              "      <td>False</td>\n",
              "      <td>False</td>\n",
              "      <td>False</td>\n",
              "      <td>False</td>\n",
              "      <td>NO</td>\n",
              "      <td>0</td>\n",
              "      <td>0</td>\n",
              "    </tr>\n",
              "    <tr>\n",
              "      <th>45</th>\n",
              "      <td>Caucasian</td>\n",
              "      <td>Female</td>\n",
              "      <td>30-60 years</td>\n",
              "      <td>Discharged to Home</td>\n",
              "      <td>Referral</td>\n",
              "      <td>2</td>\n",
              "      <td>Missing</td>\n",
              "      <td>10</td>\n",
              "      <td>3</td>\n",
              "      <td>8</td>\n",
              "      <td>...</td>\n",
              "      <td>No</td>\n",
              "      <td>Yes</td>\n",
              "      <td>False</td>\n",
              "      <td>False</td>\n",
              "      <td>False</td>\n",
              "      <td>False</td>\n",
              "      <td>False</td>\n",
              "      <td>NO</td>\n",
              "      <td>0</td>\n",
              "      <td>0</td>\n",
              "    </tr>\n",
              "    <tr>\n",
              "      <th>46</th>\n",
              "      <td>Caucasian</td>\n",
              "      <td>Female</td>\n",
              "      <td>Over 60 years</td>\n",
              "      <td>Other</td>\n",
              "      <td>Other</td>\n",
              "      <td>9</td>\n",
              "      <td>InternalMedicine</td>\n",
              "      <td>25</td>\n",
              "      <td>3</td>\n",
              "      <td>16</td>\n",
              "      <td>...</td>\n",
              "      <td>Ch</td>\n",
              "      <td>Yes</td>\n",
              "      <td>False</td>\n",
              "      <td>False</td>\n",
              "      <td>False</td>\n",
              "      <td>True</td>\n",
              "      <td>False</td>\n",
              "      <td>&lt;30</td>\n",
              "      <td>1</td>\n",
              "      <td>1</td>\n",
              "    </tr>\n",
              "    <tr>\n",
              "      <th>47</th>\n",
              "      <td>Caucasian</td>\n",
              "      <td>Male</td>\n",
              "      <td>Over 60 years</td>\n",
              "      <td>Other</td>\n",
              "      <td>Other</td>\n",
              "      <td>9</td>\n",
              "      <td>Missing</td>\n",
              "      <td>2</td>\n",
              "      <td>0</td>\n",
              "      <td>12</td>\n",
              "      <td>...</td>\n",
              "      <td>Ch</td>\n",
              "      <td>Yes</td>\n",
              "      <td>False</td>\n",
              "      <td>False</td>\n",
              "      <td>False</td>\n",
              "      <td>True</td>\n",
              "      <td>False</td>\n",
              "      <td>NO</td>\n",
              "      <td>0</td>\n",
              "      <td>0</td>\n",
              "    </tr>\n",
              "    <tr>\n",
              "      <th>48</th>\n",
              "      <td>Caucasian</td>\n",
              "      <td>Male</td>\n",
              "      <td>30-60 years</td>\n",
              "      <td>Discharged to Home</td>\n",
              "      <td>Referral</td>\n",
              "      <td>6</td>\n",
              "      <td>Missing</td>\n",
              "      <td>65</td>\n",
              "      <td>5</td>\n",
              "      <td>19</td>\n",
              "      <td>...</td>\n",
              "      <td>Ch</td>\n",
              "      <td>Yes</td>\n",
              "      <td>False</td>\n",
              "      <td>False</td>\n",
              "      <td>False</td>\n",
              "      <td>False</td>\n",
              "      <td>False</td>\n",
              "      <td>NO</td>\n",
              "      <td>0</td>\n",
              "      <td>0</td>\n",
              "    </tr>\n",
              "    <tr>\n",
              "      <th>49</th>\n",
              "      <td>Caucasian</td>\n",
              "      <td>Male</td>\n",
              "      <td>Over 60 years</td>\n",
              "      <td>Other</td>\n",
              "      <td>Other</td>\n",
              "      <td>11</td>\n",
              "      <td>Missing</td>\n",
              "      <td>67</td>\n",
              "      <td>2</td>\n",
              "      <td>25</td>\n",
              "      <td>...</td>\n",
              "      <td>Ch</td>\n",
              "      <td>Yes</td>\n",
              "      <td>False</td>\n",
              "      <td>False</td>\n",
              "      <td>False</td>\n",
              "      <td>False</td>\n",
              "      <td>False</td>\n",
              "      <td>NO</td>\n",
              "      <td>0</td>\n",
              "      <td>0</td>\n",
              "    </tr>\n",
              "  </tbody>\n",
              "</table>\n",
              "<p>50 rows × 25 columns</p>\n",
              "</div>\n",
              "      <button class=\"colab-df-convert\" onclick=\"convertToInteractive('df-745932ab-4836-498a-92e6-ec778a120910')\"\n",
              "              title=\"Convert this dataframe to an interactive table.\"\n",
              "              style=\"display:none;\">\n",
              "        \n",
              "  <svg xmlns=\"http://www.w3.org/2000/svg\" height=\"24px\"viewBox=\"0 0 24 24\"\n",
              "       width=\"24px\">\n",
              "    <path d=\"M0 0h24v24H0V0z\" fill=\"none\"/>\n",
              "    <path d=\"M18.56 5.44l.94 2.06.94-2.06 2.06-.94-2.06-.94-.94-2.06-.94 2.06-2.06.94zm-11 1L8.5 8.5l.94-2.06 2.06-.94-2.06-.94L8.5 2.5l-.94 2.06-2.06.94zm10 10l.94 2.06.94-2.06 2.06-.94-2.06-.94-.94-2.06-.94 2.06-2.06.94z\"/><path d=\"M17.41 7.96l-1.37-1.37c-.4-.4-.92-.59-1.43-.59-.52 0-1.04.2-1.43.59L10.3 9.45l-7.72 7.72c-.78.78-.78 2.05 0 2.83L4 21.41c.39.39.9.59 1.41.59.51 0 1.02-.2 1.41-.59l7.78-7.78 2.81-2.81c.8-.78.8-2.07 0-2.86zM5.41 20L4 18.59l7.72-7.72 1.47 1.35L5.41 20z\"/>\n",
              "  </svg>\n",
              "      </button>\n",
              "      \n",
              "  <style>\n",
              "    .colab-df-container {\n",
              "      display:flex;\n",
              "      flex-wrap:wrap;\n",
              "      gap: 12px;\n",
              "    }\n",
              "\n",
              "    .colab-df-convert {\n",
              "      background-color: #E8F0FE;\n",
              "      border: none;\n",
              "      border-radius: 50%;\n",
              "      cursor: pointer;\n",
              "      display: none;\n",
              "      fill: #1967D2;\n",
              "      height: 32px;\n",
              "      padding: 0 0 0 0;\n",
              "      width: 32px;\n",
              "    }\n",
              "\n",
              "    .colab-df-convert:hover {\n",
              "      background-color: #E2EBFA;\n",
              "      box-shadow: 0px 1px 2px rgba(60, 64, 67, 0.3), 0px 1px 3px 1px rgba(60, 64, 67, 0.15);\n",
              "      fill: #174EA6;\n",
              "    }\n",
              "\n",
              "    [theme=dark] .colab-df-convert {\n",
              "      background-color: #3B4455;\n",
              "      fill: #D2E3FC;\n",
              "    }\n",
              "\n",
              "    [theme=dark] .colab-df-convert:hover {\n",
              "      background-color: #434B5C;\n",
              "      box-shadow: 0px 1px 3px 1px rgba(0, 0, 0, 0.15);\n",
              "      filter: drop-shadow(0px 1px 2px rgba(0, 0, 0, 0.3));\n",
              "      fill: #FFFFFF;\n",
              "    }\n",
              "  </style>\n",
              "\n",
              "      <script>\n",
              "        const buttonEl =\n",
              "          document.querySelector('#df-745932ab-4836-498a-92e6-ec778a120910 button.colab-df-convert');\n",
              "        buttonEl.style.display =\n",
              "          google.colab.kernel.accessAllowed ? 'block' : 'none';\n",
              "\n",
              "        async function convertToInteractive(key) {\n",
              "          const element = document.querySelector('#df-745932ab-4836-498a-92e6-ec778a120910');\n",
              "          const dataTable =\n",
              "            await google.colab.kernel.invokeFunction('convertToInteractive',\n",
              "                                                     [key], {});\n",
              "          if (!dataTable) return;\n",
              "\n",
              "          const docLinkHtml = 'Like what you see? Visit the ' +\n",
              "            '<a target=\"_blank\" href=https://colab.research.google.com/notebooks/data_table.ipynb>data table notebook</a>'\n",
              "            + ' to learn more about interactive tables.';\n",
              "          element.innerHTML = '';\n",
              "          dataTable['output_type'] = 'display_data';\n",
              "          await google.colab.output.renderOutput(dataTable, element);\n",
              "          const docLink = document.createElement('div');\n",
              "          docLink.innerHTML = docLinkHtml;\n",
              "          element.appendChild(docLink);\n",
              "        }\n",
              "      </script>\n",
              "    </div>\n",
              "  </div>\n",
              "  "
            ]
          },
          "metadata": {},
          "execution_count": 8
        }
      ],
      "source": [
        "df.head(50)"
      ]
    },
    {
      "cell_type": "markdown",
      "metadata": {
        "id": "KXQNItgRT8Fu"
      },
      "source": [
        "The columns contain mostly boolean and categorical data (including age and various test results), with just the following exceptions: `time_in_hospital`, `num_lab_procedures`, `num_procedures`, `num_medications`, `number_diagnoses`.\n",
        "\n",
        "\n",
        "|features| description|\n",
        "|---|---|\n",
        "| race, gender, age | demographic features |\n",
        "| medicare, medicaid | insurance information |\n",
        "| admission_source_id | emergency, referral, or other |\n",
        "| had_emergency, had_inpatient_days,<br>had_outpatient_days | hospital visits in prior year |\n",
        "| medical_specialty | admitting physician's specialty |\n",
        "| time_in_hospital, num_lab_procedures,<br>num_procedures, num_medications,<br>primary_diagnosis, number_diagnoses,<br>max_glu_serum, A1Cresult, insulin<br>change, diabetesMed | description of the hospital visit<br> |\n",
        "| discharge_disposition_id | discharched to home or not |\n",
        "| readmitted, readmit_binary,<br>readmit_30_days | readmission information |\n",
        "\n",
        "\n"
      ]
    },
    {
      "cell_type": "code",
      "execution_count": null,
      "metadata": {
        "id": "gPtaDcfHT8Fv",
        "colab": {
          "base_uri": "https://localhost:8080/",
          "height": 677
        },
        "outputId": "48c10cfa-be07-41ef-b248-caf2ce34c330"
      },
      "outputs": [
        {
          "output_type": "execute_result",
          "data": {
            "text/plain": [
              "                                           0                   1  \\\n",
              "race                               Caucasian     AfricanAmerican   \n",
              "gender                                Female                Male   \n",
              "age                            Over 60 years         30-60 years   \n",
              "discharge_disposition_id  Discharged to Home               Other   \n",
              "admission_source_id                Emergency            Referral   \n",
              "medical_specialty                    Missing               Other   \n",
              "primary_diagnosis                      Other  Respiratory Issues   \n",
              "max_glu_serum                           None                Norm   \n",
              "A1Cresult                               None                  >8   \n",
              "insulin                                   No              Steady   \n",
              "change                                    No                  Ch   \n",
              "diabetesMed                              Yes                  No   \n",
              "medicare                               False                True   \n",
              "medicaid                               False                True   \n",
              "had_emergency                          False                True   \n",
              "had_inpatient_days                     False                True   \n",
              "had_outpatient_days                    False                True   \n",
              "readmitted                                NO                 >30   \n",
              "readmit_binary                         0.000               1.000   \n",
              "readmit_30_days                        0.000               1.000   \n",
              "\n",
              "                                            2                     3  \\\n",
              "race                                  Unknown              Hispanic   \n",
              "gender                        Unknown/Invalid                         \n",
              "age                       30 years or younger                         \n",
              "discharge_disposition_id                                              \n",
              "admission_source_id                     Other                         \n",
              "medical_specialty            InternalMedicine      Emergency/Trauma   \n",
              "primary_diagnosis                    Diabetes  Genitourinary Issues   \n",
              "max_glu_serum                            >200                  >300   \n",
              "A1Cresult                                Norm                    >7   \n",
              "insulin                                  Down                    Up   \n",
              "change                                                                \n",
              "diabetesMed                                                           \n",
              "medicare                                                              \n",
              "medicaid                                                              \n",
              "had_emergency                                                         \n",
              "had_inpatient_days                                                    \n",
              "had_outpatient_days                                                   \n",
              "readmitted                                <30                         \n",
              "readmit_binary                                                        \n",
              "readmit_30_days                                                       \n",
              "\n",
              "                                               4           5  \n",
              "race                                       Other       Asian  \n",
              "gender                                                        \n",
              "age                                                           \n",
              "discharge_disposition_id                                      \n",
              "admission_source_id                                           \n",
              "medical_specialty         Family/GeneralPractice  Cardiology  \n",
              "primary_diagnosis         Musculoskeletal Issues              \n",
              "max_glu_serum                                                 \n",
              "A1Cresult                                                     \n",
              "insulin                                                       \n",
              "change                                                        \n",
              "diabetesMed                                                   \n",
              "medicare                                                      \n",
              "medicaid                                                      \n",
              "had_emergency                                                 \n",
              "had_inpatient_days                                            \n",
              "had_outpatient_days                                           \n",
              "readmitted                                                    \n",
              "readmit_binary                                                \n",
              "readmit_30_days                                               "
            ],
            "text/html": [
              "\n",
              "  <div id=\"df-d89aca14-3a2f-4b36-9a8b-8240caa4cfb5\">\n",
              "    <div class=\"colab-df-container\">\n",
              "      <div>\n",
              "<style scoped>\n",
              "    .dataframe tbody tr th:only-of-type {\n",
              "        vertical-align: middle;\n",
              "    }\n",
              "\n",
              "    .dataframe tbody tr th {\n",
              "        vertical-align: top;\n",
              "    }\n",
              "\n",
              "    .dataframe thead th {\n",
              "        text-align: right;\n",
              "    }\n",
              "</style>\n",
              "<table border=\"1\" class=\"dataframe\">\n",
              "  <thead>\n",
              "    <tr style=\"text-align: right;\">\n",
              "      <th></th>\n",
              "      <th>0</th>\n",
              "      <th>1</th>\n",
              "      <th>2</th>\n",
              "      <th>3</th>\n",
              "      <th>4</th>\n",
              "      <th>5</th>\n",
              "    </tr>\n",
              "  </thead>\n",
              "  <tbody>\n",
              "    <tr>\n",
              "      <th>race</th>\n",
              "      <td>Caucasian</td>\n",
              "      <td>AfricanAmerican</td>\n",
              "      <td>Unknown</td>\n",
              "      <td>Hispanic</td>\n",
              "      <td>Other</td>\n",
              "      <td>Asian</td>\n",
              "    </tr>\n",
              "    <tr>\n",
              "      <th>gender</th>\n",
              "      <td>Female</td>\n",
              "      <td>Male</td>\n",
              "      <td>Unknown/Invalid</td>\n",
              "      <td></td>\n",
              "      <td></td>\n",
              "      <td></td>\n",
              "    </tr>\n",
              "    <tr>\n",
              "      <th>age</th>\n",
              "      <td>Over 60 years</td>\n",
              "      <td>30-60 years</td>\n",
              "      <td>30 years or younger</td>\n",
              "      <td></td>\n",
              "      <td></td>\n",
              "      <td></td>\n",
              "    </tr>\n",
              "    <tr>\n",
              "      <th>discharge_disposition_id</th>\n",
              "      <td>Discharged to Home</td>\n",
              "      <td>Other</td>\n",
              "      <td></td>\n",
              "      <td></td>\n",
              "      <td></td>\n",
              "      <td></td>\n",
              "    </tr>\n",
              "    <tr>\n",
              "      <th>admission_source_id</th>\n",
              "      <td>Emergency</td>\n",
              "      <td>Referral</td>\n",
              "      <td>Other</td>\n",
              "      <td></td>\n",
              "      <td></td>\n",
              "      <td></td>\n",
              "    </tr>\n",
              "    <tr>\n",
              "      <th>medical_specialty</th>\n",
              "      <td>Missing</td>\n",
              "      <td>Other</td>\n",
              "      <td>InternalMedicine</td>\n",
              "      <td>Emergency/Trauma</td>\n",
              "      <td>Family/GeneralPractice</td>\n",
              "      <td>Cardiology</td>\n",
              "    </tr>\n",
              "    <tr>\n",
              "      <th>primary_diagnosis</th>\n",
              "      <td>Other</td>\n",
              "      <td>Respiratory Issues</td>\n",
              "      <td>Diabetes</td>\n",
              "      <td>Genitourinary Issues</td>\n",
              "      <td>Musculoskeletal Issues</td>\n",
              "      <td></td>\n",
              "    </tr>\n",
              "    <tr>\n",
              "      <th>max_glu_serum</th>\n",
              "      <td>None</td>\n",
              "      <td>Norm</td>\n",
              "      <td>&gt;200</td>\n",
              "      <td>&gt;300</td>\n",
              "      <td></td>\n",
              "      <td></td>\n",
              "    </tr>\n",
              "    <tr>\n",
              "      <th>A1Cresult</th>\n",
              "      <td>None</td>\n",
              "      <td>&gt;8</td>\n",
              "      <td>Norm</td>\n",
              "      <td>&gt;7</td>\n",
              "      <td></td>\n",
              "      <td></td>\n",
              "    </tr>\n",
              "    <tr>\n",
              "      <th>insulin</th>\n",
              "      <td>No</td>\n",
              "      <td>Steady</td>\n",
              "      <td>Down</td>\n",
              "      <td>Up</td>\n",
              "      <td></td>\n",
              "      <td></td>\n",
              "    </tr>\n",
              "    <tr>\n",
              "      <th>change</th>\n",
              "      <td>No</td>\n",
              "      <td>Ch</td>\n",
              "      <td></td>\n",
              "      <td></td>\n",
              "      <td></td>\n",
              "      <td></td>\n",
              "    </tr>\n",
              "    <tr>\n",
              "      <th>diabetesMed</th>\n",
              "      <td>Yes</td>\n",
              "      <td>No</td>\n",
              "      <td></td>\n",
              "      <td></td>\n",
              "      <td></td>\n",
              "      <td></td>\n",
              "    </tr>\n",
              "    <tr>\n",
              "      <th>medicare</th>\n",
              "      <td>False</td>\n",
              "      <td>True</td>\n",
              "      <td></td>\n",
              "      <td></td>\n",
              "      <td></td>\n",
              "      <td></td>\n",
              "    </tr>\n",
              "    <tr>\n",
              "      <th>medicaid</th>\n",
              "      <td>False</td>\n",
              "      <td>True</td>\n",
              "      <td></td>\n",
              "      <td></td>\n",
              "      <td></td>\n",
              "      <td></td>\n",
              "    </tr>\n",
              "    <tr>\n",
              "      <th>had_emergency</th>\n",
              "      <td>False</td>\n",
              "      <td>True</td>\n",
              "      <td></td>\n",
              "      <td></td>\n",
              "      <td></td>\n",
              "      <td></td>\n",
              "    </tr>\n",
              "    <tr>\n",
              "      <th>had_inpatient_days</th>\n",
              "      <td>False</td>\n",
              "      <td>True</td>\n",
              "      <td></td>\n",
              "      <td></td>\n",
              "      <td></td>\n",
              "      <td></td>\n",
              "    </tr>\n",
              "    <tr>\n",
              "      <th>had_outpatient_days</th>\n",
              "      <td>False</td>\n",
              "      <td>True</td>\n",
              "      <td></td>\n",
              "      <td></td>\n",
              "      <td></td>\n",
              "      <td></td>\n",
              "    </tr>\n",
              "    <tr>\n",
              "      <th>readmitted</th>\n",
              "      <td>NO</td>\n",
              "      <td>&gt;30</td>\n",
              "      <td>&lt;30</td>\n",
              "      <td></td>\n",
              "      <td></td>\n",
              "      <td></td>\n",
              "    </tr>\n",
              "    <tr>\n",
              "      <th>readmit_binary</th>\n",
              "      <td>0.000</td>\n",
              "      <td>1.000</td>\n",
              "      <td></td>\n",
              "      <td></td>\n",
              "      <td></td>\n",
              "      <td></td>\n",
              "    </tr>\n",
              "    <tr>\n",
              "      <th>readmit_30_days</th>\n",
              "      <td>0.000</td>\n",
              "      <td>1.000</td>\n",
              "      <td></td>\n",
              "      <td></td>\n",
              "      <td></td>\n",
              "      <td></td>\n",
              "    </tr>\n",
              "  </tbody>\n",
              "</table>\n",
              "</div>\n",
              "      <button class=\"colab-df-convert\" onclick=\"convertToInteractive('df-d89aca14-3a2f-4b36-9a8b-8240caa4cfb5')\"\n",
              "              title=\"Convert this dataframe to an interactive table.\"\n",
              "              style=\"display:none;\">\n",
              "        \n",
              "  <svg xmlns=\"http://www.w3.org/2000/svg\" height=\"24px\"viewBox=\"0 0 24 24\"\n",
              "       width=\"24px\">\n",
              "    <path d=\"M0 0h24v24H0V0z\" fill=\"none\"/>\n",
              "    <path d=\"M18.56 5.44l.94 2.06.94-2.06 2.06-.94-2.06-.94-.94-2.06-.94 2.06-2.06.94zm-11 1L8.5 8.5l.94-2.06 2.06-.94-2.06-.94L8.5 2.5l-.94 2.06-2.06.94zm10 10l.94 2.06.94-2.06 2.06-.94-2.06-.94-.94-2.06-.94 2.06-2.06.94z\"/><path d=\"M17.41 7.96l-1.37-1.37c-.4-.4-.92-.59-1.43-.59-.52 0-1.04.2-1.43.59L10.3 9.45l-7.72 7.72c-.78.78-.78 2.05 0 2.83L4 21.41c.39.39.9.59 1.41.59.51 0 1.02-.2 1.41-.59l7.78-7.78 2.81-2.81c.8-.78.8-2.07 0-2.86zM5.41 20L4 18.59l7.72-7.72 1.47 1.35L5.41 20z\"/>\n",
              "  </svg>\n",
              "      </button>\n",
              "      \n",
              "  <style>\n",
              "    .colab-df-container {\n",
              "      display:flex;\n",
              "      flex-wrap:wrap;\n",
              "      gap: 12px;\n",
              "    }\n",
              "\n",
              "    .colab-df-convert {\n",
              "      background-color: #E8F0FE;\n",
              "      border: none;\n",
              "      border-radius: 50%;\n",
              "      cursor: pointer;\n",
              "      display: none;\n",
              "      fill: #1967D2;\n",
              "      height: 32px;\n",
              "      padding: 0 0 0 0;\n",
              "      width: 32px;\n",
              "    }\n",
              "\n",
              "    .colab-df-convert:hover {\n",
              "      background-color: #E2EBFA;\n",
              "      box-shadow: 0px 1px 2px rgba(60, 64, 67, 0.3), 0px 1px 3px 1px rgba(60, 64, 67, 0.15);\n",
              "      fill: #174EA6;\n",
              "    }\n",
              "\n",
              "    [theme=dark] .colab-df-convert {\n",
              "      background-color: #3B4455;\n",
              "      fill: #D2E3FC;\n",
              "    }\n",
              "\n",
              "    [theme=dark] .colab-df-convert:hover {\n",
              "      background-color: #434B5C;\n",
              "      box-shadow: 0px 1px 3px 1px rgba(0, 0, 0, 0.15);\n",
              "      filter: drop-shadow(0px 1px 2px rgba(0, 0, 0, 0.3));\n",
              "      fill: #FFFFFF;\n",
              "    }\n",
              "  </style>\n",
              "\n",
              "      <script>\n",
              "        const buttonEl =\n",
              "          document.querySelector('#df-d89aca14-3a2f-4b36-9a8b-8240caa4cfb5 button.colab-df-convert');\n",
              "        buttonEl.style.display =\n",
              "          google.colab.kernel.accessAllowed ? 'block' : 'none';\n",
              "\n",
              "        async function convertToInteractive(key) {\n",
              "          const element = document.querySelector('#df-d89aca14-3a2f-4b36-9a8b-8240caa4cfb5');\n",
              "          const dataTable =\n",
              "            await google.colab.kernel.invokeFunction('convertToInteractive',\n",
              "                                                     [key], {});\n",
              "          if (!dataTable) return;\n",
              "\n",
              "          const docLinkHtml = 'Like what you see? Visit the ' +\n",
              "            '<a target=\"_blank\" href=https://colab.research.google.com/notebooks/data_table.ipynb>data table notebook</a>'\n",
              "            + ' to learn more about interactive tables.';\n",
              "          element.innerHTML = '';\n",
              "          dataTable['output_type'] = 'display_data';\n",
              "          await google.colab.output.renderOutput(dataTable, element);\n",
              "          const docLink = document.createElement('div');\n",
              "          docLink.innerHTML = docLinkHtml;\n",
              "          element.appendChild(docLink);\n",
              "        }\n",
              "      </script>\n",
              "    </div>\n",
              "  </div>\n",
              "  "
            ]
          },
          "metadata": {},
          "execution_count": 9
        }
      ],
      "source": [
        "# Show the values of all binary and categorical features\n",
        "categorical_values = {}\n",
        "for col in df:\n",
        "  if col not in {'time_in_hospital', 'num_lab_procedures',\n",
        "                 'num_procedures', 'num_medications', 'number_diagnoses'}:\n",
        "    categorical_values[col] = pd.Series(df[col].value_counts().index.values)\n",
        "categorical_values_df = pd.DataFrame(categorical_values).fillna('')\n",
        "categorical_values_df.T"
      ]
    },
    {
      "cell_type": "markdown",
      "metadata": {
        "id": "8loEiuFSWb8A"
      },
      "source": [
        "We mark all categorical features: "
      ]
    },
    {
      "cell_type": "code",
      "execution_count": null,
      "metadata": {
        "id": "P4y1FRMdWduE"
      },
      "outputs": [],
      "source": [
        "categorical_features = [\n",
        "    \"race\",\n",
        "    \"gender\",\n",
        "    \"age\",\n",
        "    \"discharge_disposition_id\",\n",
        "    \"admission_source_id\",\n",
        "    \"medical_specialty\",\n",
        "    \"primary_diagnosis\",\n",
        "    \"max_glu_serum\",\n",
        "    \"A1Cresult\",\n",
        "    \"insulin\",\n",
        "    \"change\",\n",
        "    \"diabetesMed\",\n",
        "    \"readmitted\"\n",
        "]"
      ]
    },
    {
      "cell_type": "code",
      "execution_count": null,
      "metadata": {
        "id": "Qyo3GQ4RWduG"
      },
      "outputs": [],
      "source": [
        "for col_name in categorical_features:\n",
        "  df[col_name] = df[col_name].astype(\"category\")"
      ]
    },
    {
      "cell_type": "markdown",
      "metadata": {
        "id": "6LTax67Em4q8"
      },
      "source": [
        "## Group sample sizes "
      ]
    },
    {
      "cell_type": "markdown",
      "metadata": {
        "id": "ft28kXKHm4q9"
      },
      "source": [
        "From the perspective of fairness assessment, a key data characteristic is the sample size of groups with respect to which we conduct fairness assessment. \n",
        "\n",
        "Small sample sizes have two implications:\n",
        "\n",
        "* **assessment**: the impacts of the AI system on smaller groups are harder to assess, because due to fewer data points we have a much larger uncertainty (error bars) in our estimates\n",
        "\n",
        "* **model training**: fewer training data points mean that our model fails to appropriately capture any data patterns specific to smaller groups, which means that its predictive performance on these groups could be worse\n",
        "\n",
        "Let's examine the sample sizes of the groups according to `race`:\n",
        "\n"
      ]
    },
    {
      "cell_type": "code",
      "execution_count": null,
      "metadata": {
        "id": "HznSDLWEm4q-",
        "colab": {
          "base_uri": "https://localhost:8080/",
          "height": 364
        },
        "outputId": "882b72af-4475-4607-9371-07aaa325d91e"
      },
      "outputs": [
        {
          "output_type": "execute_result",
          "data": {
            "text/plain": [
              "Text(0, 0.5, '% of patients')"
            ]
          },
          "metadata": {},
          "execution_count": 12
        },
        {
          "output_type": "display_data",
          "data": {
            "text/plain": [
              "<Figure size 432x288 with 1 Axes>"
            ],
            "image/png": "[encoded data removed]"
          },
          "metadata": {}
        }
      ],
      "source": [
        "df[\"race\"].value_counts(normalize=True).mul(100).plot(kind='bar', rot=45);\n",
        "plt.xlabel(\"Race\")\n",
        "plt.ylabel(\"% of patients\")"
      ]
    },
    {
      "cell_type": "code",
      "execution_count": null,
      "metadata": {
        "id": "qE2UoDU3m4q-",
        "colab": {
          "base_uri": "https://localhost:8080/"
        },
        "outputId": "c77a0463-b031-494b-a5b6-5ab5ed096420"
      },
      "outputs": [
        {
          "output_type": "execute_result",
          "data": {
            "text/plain": [
              "Caucasian         0.748\n",
              "AfricanAmerican   0.189\n",
              "Unknown           0.022\n",
              "Hispanic          0.020\n",
              "Other             0.015\n",
              "Asian             0.006\n",
              "Name: race, dtype: float64"
            ]
          },
          "metadata": {},
          "execution_count": 13
        }
      ],
      "source": [
        "#With normalize set to True, returns the relative frequency by dividing all values by the sum of values. \n",
        "df[\"race\"].value_counts()\n",
        "df[\"race\"].value_counts(normalize=True)"
      ]
    },
    {
      "cell_type": "markdown",
      "metadata": {
        "id": "DEUrg6J3m4q_"
      },
      "source": [
        "In our dataset, our patients are predominantly *Caucasian* (75%). The next largest racial group is *AfricanAmerican*, making up 19% of the patients. The remaining race categories (including *Unknown*) compose only 6% of the data."
      ]
    },
    {
      "cell_type": "markdown",
      "metadata": {
        "id": "xIdDhgtAm4rA"
      },
      "source": [
        "We also examine the dataset composition by `gender`:\n",
        "\n"
      ]
    },
    {
      "cell_type": "code",
      "source": [
        "df[\"gender\"].value_counts(normalize=True).mul(100).plot(kind='bar', rot=45);\n",
        "plt.xlabel(\"Gender\")\n",
        "plt.ylabel(\"% of patients\")"
      ],
      "metadata": {
        "colab": {
          "base_uri": "https://localhost:8080/",
          "height": 364
        },
        "id": "wfrC_Z0QLEse",
        "outputId": "4dc9f994-4478-463f-d29b-545243a3c148"
      },
      "execution_count": null,
      "outputs": [
        {
          "output_type": "execute_result",
          "data": {
            "text/plain": [
              "Text(0, 0.5, '% of patients')"
            ]
          },
          "metadata": {},
          "execution_count": 14
        },
        {
          "output_type": "display_data",
          "data": {
            "text/plain": [
              "<Figure size 432x288 with 1 Axes>"
            ],
            "image/png": "[encoded data removed]"
          },
          "metadata": {}
        }
      ]
    },
    {
      "cell_type": "code",
      "execution_count": null,
      "metadata": {
        "id": "0h26CH50m4rA",
        "colab": {
          "base_uri": "https://localhost:8080/"
        },
        "outputId": "d3412989-0304-4547-d7d6-b80857c113ce"
      },
      "outputs": [
        {
          "output_type": "execute_result",
          "data": {
            "text/plain": [
              "Female             54708\n",
              "Male               47055\n",
              "Unknown/Invalid        3\n",
              "Name: gender, dtype: int64"
            ]
          },
          "metadata": {},
          "execution_count": 15
        }
      ],
      "source": [
        "df[\"gender\"].value_counts() "
      ]
    },
    {
      "cell_type": "code",
      "execution_count": null,
      "metadata": {
        "id": "UTbI5v48m4rA",
        "colab": {
          "base_uri": "https://localhost:8080/"
        },
        "outputId": "6a489f34-2df7-439a-d717-fd66ee0c9b82"
      },
      "outputs": [
        {
          "output_type": "execute_result",
          "data": {
            "text/plain": [
              "Female            53.759\n",
              "Male              46.238\n",
              "Unknown/Invalid    0.003\n",
              "Name: gender, dtype: float64"
            ]
          },
          "metadata": {},
          "execution_count": 16
        }
      ],
      "source": [
        "df[\"gender\"].value_counts(normalize=True).mul(100)"
      ]
    },
    {
      "cell_type": "markdown",
      "metadata": {
        "id": "i3xBANdpm4rA"
      },
      "source": [
        "Gender is in our case effectively binary (and we have \n",
        "no further information how it was operationalized), with both *Female* represented at 54% and *Male* represented at 46%. There are only 3 samples annotated as *Unknown/Invalid*."
      ]
    },
    {
      "cell_type": "markdown",
      "source": [
        "Around 54% of the patients were not readmitted to hospital. Approximately 35% of the patients were readmitted to hospital in more than 30 days since their last admission. Approximately 11% of the patients were readmitted in less than 30 days since their last admission."
      ],
      "metadata": {
        "id": "bZ_7O-1R1KEc"
      }
    },
    {
      "cell_type": "markdown",
      "metadata": {
        "id": "NyLBXpKWm4rA"
      },
      "source": [
        "### Decision point: How do we address smaller group sizes?"
      ]
    },
    {
      "cell_type": "markdown",
      "metadata": {
        "id": "wT-BPQ2Gm4rB"
      },
      "source": [
        "When the dataset lacks coverage of certain groups, it means that we will not be able to reliably assess any fairness-related issues. There are three interventions (which could be carried out in a combination):\n",
        "\n",
        "* **collect more data**: collect more data for groups with fewer samples\n",
        "* **buckets**: merge some of the groups\n",
        "* **drop small groups**\n",
        "\n",
        "The choice of strategy depends on our existing understanding of which groups are at the greatest risk of a harm. In particular, pooling the groups with widely different risks could mask the extent of harms. We generally caution against dropping small groups as this leads to the representational harm of erasure.\n",
        "\n",
        "If any groups are merged or dropped, these decisions should be annotated / explained (in the datasheet, which we discuss below).\n",
        "\n",
        "In our case, we will:\n",
        "\n",
        "* merge the three smallest race groups *Asian*, *Hispanic*, *Other* (similar to [Strack et al., 2014](https://www.hindawi.com/journals/bmri/2014/781670/)), but also retain the original groups for auxiliary assessments.\n",
        "\n",
        "* drop the gender group *Unknown/Invalid*, because the sample size is so small that no meaningful fairness assessment is possible."
      ]
    },
    {
      "cell_type": "code",
      "execution_count": null,
      "metadata": {
        "id": "iBN_fIhpm4rB",
        "colab": {
          "base_uri": "https://localhost:8080/"
        },
        "outputId": "5c3efba6-5a03-44d4-e463-64fb41d9f9ea"
      },
      "outputs": [
        {
          "output_type": "execute_result",
          "data": {
            "text/plain": [
              "Female            53.760\n",
              "Male              46.240\n",
              "Unknown/Invalid    0.000\n",
              "Name: gender, dtype: float64"
            ]
          },
          "metadata": {},
          "execution_count": 17
        }
      ],
      "source": [
        "#drop the gender group Unknown/Invalid\n",
        "df = df.query(\"gender != 'Unknown/Invalid'\")\n",
        "df[\"gender\"].value_counts(normalize=True).mul(100)\n"
      ]
    },
    {
      "cell_type": "code",
      "source": [
        "# retain the original race as race_all, and merge Asian+Hispanic+Other \n",
        "df[\"race_all\"] = df[\"race\"];\n",
        "df[\"race\"] = df[\"race\"].replace({\"Asian\": \"Other\", \"Hispanic\": \"Other\"});"
      ],
      "metadata": {
        "id": "9Es0qxa7DiEt",
        "colab": {
          "base_uri": "https://localhost:8080/"
        },
        "outputId": "98a11ffc-7379-49e4-efe3-1f087c9985b0"
      },
      "execution_count": null,
      "outputs": [
        {
          "output_type": "stream",
          "name": "stderr",
          "text": [
            "/usr/local/lib/python3.7/dist-packages/ipykernel_launcher.py:2: SettingWithCopyWarning: \n",
            "A value is trying to be set on a copy of a slice from a DataFrame.\n",
            "Try using .loc[row_indexer,col_indexer] = value instead\n",
            "\n",
            "See the caveats in the documentation: https://pandas.pydata.org/pandas-docs/stable/user_guide/indexing.html#returning-a-view-versus-a-copy\n",
            "  \n",
            "/usr/local/lib/python3.7/dist-packages/ipykernel_launcher.py:3: SettingWithCopyWarning: \n",
            "A value is trying to be set on a copy of a slice from a DataFrame.\n",
            "Try using .loc[row_indexer,col_indexer] = value instead\n",
            "\n",
            "See the caveats in the documentation: https://pandas.pydata.org/pandas-docs/stable/user_guide/indexing.html#returning-a-view-versus-a-copy\n",
            "  This is separate from the ipykernel package so we can avoid doing imports until\n"
          ]
        }
      ]
    },
    {
      "cell_type": "code",
      "source": [
        "df[\"race\"].value_counts(normalize=True).mul(100)"
      ],
      "metadata": {
        "colab": {
          "base_uri": "https://localhost:8080/"
        },
        "id": "D6D1ynrWx4vk",
        "outputId": "999aedfb-a3c8-4a0e-b380-60c6d89a5125"
      },
      "execution_count": null,
      "outputs": [
        {
          "output_type": "execute_result",
          "data": {
            "text/plain": [
              "Caucasian         74.781\n",
              "AfricanAmerican   18.877\n",
              "Other              4.111\n",
              "Unknown            2.232\n",
              "Name: race, dtype: float64"
            ]
          },
          "metadata": {},
          "execution_count": 19
        }
      ]
    },
    {
      "cell_type": "code",
      "source": [
        "df[\"race\"].value_counts(normalize=True).mul(100).plot(kind='bar', rot=0)\n",
        "plt.xlabel(\"Race\")\n",
        "plt.ylabel(\"% of patients\")"
      ],
      "metadata": {
        "colab": {
          "base_uri": "https://localhost:8080/",
          "height": 302
        },
        "id": "cr8SN7-Yx5TP",
        "outputId": "793857ae-48f0-48e2-9071-8f7bf2d7b3df"
      },
      "execution_count": null,
      "outputs": [
        {
          "output_type": "execute_result",
          "data": {
            "text/plain": [
              "Text(0, 0.5, '% of patients')"
            ]
          },
          "metadata": {},
          "execution_count": 20
        },
        {
          "output_type": "display_data",
          "data": {
            "text/plain": [
              "<Figure size 432x288 with 1 Axes>"
            ],
            "image/png": "[encoded data removed]"
          },
          "metadata": {}
        }
      ]
    },
    {
      "cell_type": "markdown",
      "metadata": {
        "id": "N_Sb8ISAnRQF"
      },
      "source": [
        "### Exercise"
      ]
    },
    {
      "cell_type": "markdown",
      "metadata": {
        "id": "ns1Tr9wLm4rB"
      },
      "source": [
        "Please examine the distribution of the `age` feature in the dataset."
      ]
    },
    {
      "cell_type": "markdown",
      "metadata": {
        "id": "MDiLp-cDoWGv"
      },
      "source": [
        "### Answer"
      ]
    },
    {
      "cell_type": "code",
      "execution_count": null,
      "metadata": {
        "id": "UOn4j1o8m4rB",
        "colab": {
          "base_uri": "https://localhost:8080/"
        },
        "outputId": "382c4643-240b-46f9-fbd4-745f8fdff438"
      },
      "outputs": [
        {
          "output_type": "execute_result",
          "data": {
            "text/plain": [
              "Over 60 years          68538\n",
              "30-60 years            30716\n",
              "30 years or younger     2509\n",
              "Name: age, dtype: int64"
            ]
          },
          "metadata": {},
          "execution_count": 21
        }
      ],
      "source": [
        "df[\"age\"].value_counts()"
      ]
    },
    {
      "cell_type": "code",
      "source": [
        "df[\"age\"].value_counts(normalize=True).mul(100)"
      ],
      "metadata": {
        "colab": {
          "base_uri": "https://localhost:8080/"
        },
        "id": "k_An3pZ9_jb7",
        "outputId": "088a7a87-dd28-49a7-95d5-49f6c195cd7c"
      },
      "execution_count": null,
      "outputs": [
        {
          "output_type": "execute_result",
          "data": {
            "text/plain": [
              "Over 60 years         67.351\n",
              "30-60 years           30.184\n",
              "30 years or younger    2.466\n",
              "Name: age, dtype: float64"
            ]
          },
          "metadata": {},
          "execution_count": 22
        }
      ]
    },
    {
      "cell_type": "code",
      "execution_count": null,
      "metadata": {
        "id": "ns7RxP5um4rB",
        "colab": {
          "base_uri": "https://localhost:8080/",
          "height": 304
        },
        "outputId": "ee7a1603-6656-47ee-f666-46cf023e7518"
      },
      "outputs": [
        {
          "output_type": "execute_result",
          "data": {
            "text/plain": [
              "Text(0, 0.5, '% of patients')"
            ]
          },
          "metadata": {},
          "execution_count": 23
        },
        {
          "output_type": "display_data",
          "data": {
            "text/plain": [
              "<Figure size 432x288 with 1 Axes>"
            ],
            "image/png": "[encoded data removed]"
          },
          "metadata": {}
        }
      ],
      "source": [
        "df[\"age\"].value_counts(normalize=True).mul(100).plot(kind='bar', rot=0)\n",
        "plt.xlabel(\"age group\")\n",
        "plt.ylabel(\"% of patients\")"
      ]
    },
    {
      "cell_type": "markdown",
      "metadata": {
        "id": "HAXa7MoQnjq4"
      },
      "source": [
        "As we might expect, most patients (i.e. 67.4%) admitted into the hospital in our data set belong to the *Over 60 years* category. Although we will not be assessing for age-based fairness-related harms in this tutorial, we will want to document the age imbalance in our dataset."
      ]
    },
    {
      "cell_type": "markdown",
      "metadata": {
        "id": "pK0LbF_sylTU"
      },
      "source": [
        "## **Examining** the choice of label"
      ]
    },
    {
      "cell_type": "markdown",
      "metadata": {
        "id": "AtgLr5Cs_YhF"
      },
      "source": [
        "Next we will answer the question of whether our choice of label (readmission within 30 days) aligns with our goal (identify patients that would benefit from the care management program).\n",
        "\n",
        "We are making the following assumption: **the greatest benefit from the care management program would go to patients that are** (in the absence of such a program) **most likely to be readmitted into the hospital within 30 days.**"
      ]
    },
    {
      "cell_type": "markdown",
      "metadata": {
        "id": "fA19isovvCew"
      },
      "source": [
        "### Predictive validity: How can we check whether our assumptions apply? "
      ]
    },
    {
      "cell_type": "markdown",
      "metadata": {
        "id": "rVrLpuwy98uG"
      },
      "source": [
        "We would like to show that our measurement `readmit_30_days` is correlated with patient characteristics that are related to our construct \"benefiting from care management\". \n",
        "\n",
        "One such characteristic is the general patient health, where we expect that patients that are less healthy are more likely to benefit from care management.\n",
        "\n",
        "While our data does not contain full health records that would enable us to holistically measure general patient health, the data does contain two relevant features: \n",
        "- `had_emergency` which indicates whether the patient spent any days in the emergency room or  \n",
        "- `had_inpatient_days` which indicates whether the patient spent any days in the hospital (but non-emergency) in the preceding year.\n",
        "\n",
        "To establish predictive validity, we would like to show that our measurement `readmit_30_days` is predictive of these two observable characteristics."
      ]
    },
    {
      "cell_type": "markdown",
      "source": [
        "Let's first understand our data. "
      ],
      "metadata": {
        "id": "VuQPxNV5S1tV"
      }
    },
    {
      "cell_type": "code",
      "source": [
        "df.groupby(\"readmit_30_days\")[\"had_emergency\",\"had_inpatient_days\"].describe().T#T means transpose"
      ],
      "metadata": {
        "colab": {
          "base_uri": "https://localhost:8080/",
          "height": 335
        },
        "id": "7nFXJ2RVV01J",
        "outputId": "66d54c2b-e22d-40aa-a76e-680e8c127fe8"
      },
      "execution_count": null,
      "outputs": [
        {
          "output_type": "stream",
          "name": "stderr",
          "text": [
            "/usr/local/lib/python3.7/dist-packages/ipykernel_launcher.py:1: FutureWarning: Indexing with multiple keys (implicitly converted to a tuple of keys) will be deprecated, use a list instead.\n",
            "  \"\"\"Entry point for launching an IPython kernel.\n"
          ]
        },
        {
          "output_type": "execute_result",
          "data": {
            "text/plain": [
              "readmit_30_days                0      1\n",
              "had_emergency      count   90406  11357\n",
              "                   unique      2      2\n",
              "                   top     False  False\n",
              "                   freq    80913   9467\n",
              "had_inpatient_days count   90406  11357\n",
              "                   unique      2      2\n",
              "                   top     False  False\n",
              "                   freq    61921   5706"
            ],
            "text/html": [
              "\n",
              "  <div id=\"df-5f1742cd-74c8-45a6-9f7f-752deaaaf6ab\">\n",
              "    <div class=\"colab-df-container\">\n",
              "      <div>\n",
              "<style scoped>\n",
              "    .dataframe tbody tr th:only-of-type {\n",
              "        vertical-align: middle;\n",
              "    }\n",
              "\n",
              "    .dataframe tbody tr th {\n",
              "        vertical-align: top;\n",
              "    }\n",
              "\n",
              "    .dataframe thead th {\n",
              "        text-align: right;\n",
              "    }\n",
              "</style>\n",
              "<table border=\"1\" class=\"dataframe\">\n",
              "  <thead>\n",
              "    <tr style=\"text-align: right;\">\n",
              "      <th></th>\n",
              "      <th>readmit_30_days</th>\n",
              "      <th>0</th>\n",
              "      <th>1</th>\n",
              "    </tr>\n",
              "  </thead>\n",
              "  <tbody>\n",
              "    <tr>\n",
              "      <th rowspan=\"4\" valign=\"top\">had_emergency</th>\n",
              "      <th>count</th>\n",
              "      <td>90406</td>\n",
              "      <td>11357</td>\n",
              "    </tr>\n",
              "    <tr>\n",
              "      <th>unique</th>\n",
              "      <td>2</td>\n",
              "      <td>2</td>\n",
              "    </tr>\n",
              "    <tr>\n",
              "      <th>top</th>\n",
              "      <td>False</td>\n",
              "      <td>False</td>\n",
              "    </tr>\n",
              "    <tr>\n",
              "      <th>freq</th>\n",
              "      <td>80913</td>\n",
              "      <td>9467</td>\n",
              "    </tr>\n",
              "    <tr>\n",
              "      <th rowspan=\"4\" valign=\"top\">had_inpatient_days</th>\n",
              "      <th>count</th>\n",
              "      <td>90406</td>\n",
              "      <td>11357</td>\n",
              "    </tr>\n",
              "    <tr>\n",
              "      <th>unique</th>\n",
              "      <td>2</td>\n",
              "      <td>2</td>\n",
              "    </tr>\n",
              "    <tr>\n",
              "      <th>top</th>\n",
              "      <td>False</td>\n",
              "      <td>False</td>\n",
              "    </tr>\n",
              "    <tr>\n",
              "      <th>freq</th>\n",
              "      <td>61921</td>\n",
              "      <td>5706</td>\n",
              "    </tr>\n",
              "  </tbody>\n",
              "</table>\n",
              "</div>\n",
              "      <button class=\"colab-df-convert\" onclick=\"convertToInteractive('df-5f1742cd-74c8-45a6-9f7f-752deaaaf6ab')\"\n",
              "              title=\"Convert this dataframe to an interactive table.\"\n",
              "              style=\"display:none;\">\n",
              "        \n",
              "  <svg xmlns=\"http://www.w3.org/2000/svg\" height=\"24px\"viewBox=\"0 0 24 24\"\n",
              "       width=\"24px\">\n",
              "    <path d=\"M0 0h24v24H0V0z\" fill=\"none\"/>\n",
              "    <path d=\"M18.56 5.44l.94 2.06.94-2.06 2.06-.94-2.06-.94-.94-2.06-.94 2.06-2.06.94zm-11 1L8.5 8.5l.94-2.06 2.06-.94-2.06-.94L8.5 2.5l-.94 2.06-2.06.94zm10 10l.94 2.06.94-2.06 2.06-.94-2.06-.94-.94-2.06-.94 2.06-2.06.94z\"/><path d=\"M17.41 7.96l-1.37-1.37c-.4-.4-.92-.59-1.43-.59-.52 0-1.04.2-1.43.59L10.3 9.45l-7.72 7.72c-.78.78-.78 2.05 0 2.83L4 21.41c.39.39.9.59 1.41.59.51 0 1.02-.2 1.41-.59l7.78-7.78 2.81-2.81c.8-.78.8-2.07 0-2.86zM5.41 20L4 18.59l7.72-7.72 1.47 1.35L5.41 20z\"/>\n",
              "  </svg>\n",
              "      </button>\n",
              "      \n",
              "  <style>\n",
              "    .colab-df-container {\n",
              "      display:flex;\n",
              "      flex-wrap:wrap;\n",
              "      gap: 12px;\n",
              "    }\n",
              "\n",
              "    .colab-df-convert {\n",
              "      background-color: #E8F0FE;\n",
              "      border: none;\n",
              "      border-radius: 50%;\n",
              "      cursor: pointer;\n",
              "      display: none;\n",
              "      fill: #1967D2;\n",
              "      height: 32px;\n",
              "      padding: 0 0 0 0;\n",
              "      width: 32px;\n",
              "    }\n",
              "\n",
              "    .colab-df-convert:hover {\n",
              "      background-color: #E2EBFA;\n",
              "      box-shadow: 0px 1px 2px rgba(60, 64, 67, 0.3), 0px 1px 3px 1px rgba(60, 64, 67, 0.15);\n",
              "      fill: #174EA6;\n",
              "    }\n",
              "\n",
              "    [theme=dark] .colab-df-convert {\n",
              "      background-color: #3B4455;\n",
              "      fill: #D2E3FC;\n",
              "    }\n",
              "\n",
              "    [theme=dark] .colab-df-convert:hover {\n",
              "      background-color: #434B5C;\n",
              "      box-shadow: 0px 1px 3px 1px rgba(0, 0, 0, 0.15);\n",
              "      filter: drop-shadow(0px 1px 2px rgba(0, 0, 0, 0.3));\n",
              "      fill: #FFFFFF;\n",
              "    }\n",
              "  </style>\n",
              "\n",
              "      <script>\n",
              "        const buttonEl =\n",
              "          document.querySelector('#df-5f1742cd-74c8-45a6-9f7f-752deaaaf6ab button.colab-df-convert');\n",
              "        buttonEl.style.display =\n",
              "          google.colab.kernel.accessAllowed ? 'block' : 'none';\n",
              "\n",
              "        async function convertToInteractive(key) {\n",
              "          const element = document.querySelector('#df-5f1742cd-74c8-45a6-9f7f-752deaaaf6ab');\n",
              "          const dataTable =\n",
              "            await google.colab.kernel.invokeFunction('convertToInteractive',\n",
              "                                                     [key], {});\n",
              "          if (!dataTable) return;\n",
              "\n",
              "          const docLinkHtml = 'Like what you see? Visit the ' +\n",
              "            '<a target=\"_blank\" href=https://colab.research.google.com/notebooks/data_table.ipynb>data table notebook</a>'\n",
              "            + ' to learn more about interactive tables.';\n",
              "          element.innerHTML = '';\n",
              "          dataTable['output_type'] = 'display_data';\n",
              "          await google.colab.output.renderOutput(dataTable, element);\n",
              "          const docLink = document.createElement('div');\n",
              "          docLink.innerHTML = docLinkHtml;\n",
              "          element.appendChild(docLink);\n",
              "        }\n",
              "      </script>\n",
              "    </div>\n",
              "  </div>\n",
              "  "
            ]
          },
          "metadata": {},
          "execution_count": 24
        }
      ]
    },
    {
      "cell_type": "code",
      "source": [
        "df.groupby(\"readmit_30_days\")[\"had_emergency\",\"had_inpatient_days\"].mean().T "
      ],
      "metadata": {
        "colab": {
          "base_uri": "https://localhost:8080/",
          "height": 147
        },
        "id": "VyFuiKCQk7dM",
        "outputId": "3fc1c280-a016-4c7d-873d-40459bf6cec1"
      },
      "execution_count": null,
      "outputs": [
        {
          "output_type": "stream",
          "name": "stderr",
          "text": [
            "/usr/local/lib/python3.7/dist-packages/ipykernel_launcher.py:1: FutureWarning: Indexing with multiple keys (implicitly converted to a tuple of keys) will be deprecated, use a list instead.\n",
            "  \"\"\"Entry point for launching an IPython kernel.\n"
          ]
        },
        {
          "output_type": "execute_result",
          "data": {
            "text/plain": [
              "readmit_30_days        0     1\n",
              "had_emergency      0.105 0.166\n",
              "had_inpatient_days 0.315 0.498"
            ],
            "text/html": [
              "\n",
              "  <div id=\"df-8ebf0496-482d-4cb8-aaac-e4985b90a5f9\">\n",
              "    <div class=\"colab-df-container\">\n",
              "      <div>\n",
              "<style scoped>\n",
              "    .dataframe tbody tr th:only-of-type {\n",
              "        vertical-align: middle;\n",
              "    }\n",
              "\n",
              "    .dataframe tbody tr th {\n",
              "        vertical-align: top;\n",
              "    }\n",
              "\n",
              "    .dataframe thead th {\n",
              "        text-align: right;\n",
              "    }\n",
              "</style>\n",
              "<table border=\"1\" class=\"dataframe\">\n",
              "  <thead>\n",
              "    <tr style=\"text-align: right;\">\n",
              "      <th>readmit_30_days</th>\n",
              "      <th>0</th>\n",
              "      <th>1</th>\n",
              "    </tr>\n",
              "  </thead>\n",
              "  <tbody>\n",
              "    <tr>\n",
              "      <th>had_emergency</th>\n",
              "      <td>0.105</td>\n",
              "      <td>0.166</td>\n",
              "    </tr>\n",
              "    <tr>\n",
              "      <th>had_inpatient_days</th>\n",
              "      <td>0.315</td>\n",
              "      <td>0.498</td>\n",
              "    </tr>\n",
              "  </tbody>\n",
              "</table>\n",
              "</div>\n",
              "      <button class=\"colab-df-convert\" onclick=\"convertToInteractive('df-8ebf0496-482d-4cb8-aaac-e4985b90a5f9')\"\n",
              "              title=\"Convert this dataframe to an interactive table.\"\n",
              "              style=\"display:none;\">\n",
              "        \n",
              "  <svg xmlns=\"http://www.w3.org/2000/svg\" height=\"24px\"viewBox=\"0 0 24 24\"\n",
              "       width=\"24px\">\n",
              "    <path d=\"M0 0h24v24H0V0z\" fill=\"none\"/>\n",
              "    <path d=\"M18.56 5.44l.94 2.06.94-2.06 2.06-.94-2.06-.94-.94-2.06-.94 2.06-2.06.94zm-11 1L8.5 8.5l.94-2.06 2.06-.94-2.06-.94L8.5 2.5l-.94 2.06-2.06.94zm10 10l.94 2.06.94-2.06 2.06-.94-2.06-.94-.94-2.06-.94 2.06-2.06.94z\"/><path d=\"M17.41 7.96l-1.37-1.37c-.4-.4-.92-.59-1.43-.59-.52 0-1.04.2-1.43.59L10.3 9.45l-7.72 7.72c-.78.78-.78 2.05 0 2.83L4 21.41c.39.39.9.59 1.41.59.51 0 1.02-.2 1.41-.59l7.78-7.78 2.81-2.81c.8-.78.8-2.07 0-2.86zM5.41 20L4 18.59l7.72-7.72 1.47 1.35L5.41 20z\"/>\n",
              "  </svg>\n",
              "      </button>\n",
              "      \n",
              "  <style>\n",
              "    .colab-df-container {\n",
              "      display:flex;\n",
              "      flex-wrap:wrap;\n",
              "      gap: 12px;\n",
              "    }\n",
              "\n",
              "    .colab-df-convert {\n",
              "      background-color: #E8F0FE;\n",
              "      border: none;\n",
              "      border-radius: 50%;\n",
              "      cursor: pointer;\n",
              "      display: none;\n",
              "      fill: #1967D2;\n",
              "      height: 32px;\n",
              "      padding: 0 0 0 0;\n",
              "      width: 32px;\n",
              "    }\n",
              "\n",
              "    .colab-df-convert:hover {\n",
              "      background-color: #E2EBFA;\n",
              "      box-shadow: 0px 1px 2px rgba(60, 64, 67, 0.3), 0px 1px 3px 1px rgba(60, 64, 67, 0.15);\n",
              "      fill: #174EA6;\n",
              "    }\n",
              "\n",
              "    [theme=dark] .colab-df-convert {\n",
              "      background-color: #3B4455;\n",
              "      fill: #D2E3FC;\n",
              "    }\n",
              "\n",
              "    [theme=dark] .colab-df-convert:hover {\n",
              "      background-color: #434B5C;\n",
              "      box-shadow: 0px 1px 3px 1px rgba(0, 0, 0, 0.15);\n",
              "      filter: drop-shadow(0px 1px 2px rgba(0, 0, 0, 0.3));\n",
              "      fill: #FFFFFF;\n",
              "    }\n",
              "  </style>\n",
              "\n",
              "      <script>\n",
              "        const buttonEl =\n",
              "          document.querySelector('#df-8ebf0496-482d-4cb8-aaac-e4985b90a5f9 button.colab-df-convert');\n",
              "        buttonEl.style.display =\n",
              "          google.colab.kernel.accessAllowed ? 'block' : 'none';\n",
              "\n",
              "        async function convertToInteractive(key) {\n",
              "          const element = document.querySelector('#df-8ebf0496-482d-4cb8-aaac-e4985b90a5f9');\n",
              "          const dataTable =\n",
              "            await google.colab.kernel.invokeFunction('convertToInteractive',\n",
              "                                                     [key], {});\n",
              "          if (!dataTable) return;\n",
              "\n",
              "          const docLinkHtml = 'Like what you see? Visit the ' +\n",
              "            '<a target=\"_blank\" href=https://colab.research.google.com/notebooks/data_table.ipynb>data table notebook</a>'\n",
              "            + ' to learn more about interactive tables.';\n",
              "          element.innerHTML = '';\n",
              "          dataTable['output_type'] = 'display_data';\n",
              "          await google.colab.output.renderOutput(dataTable, element);\n",
              "          const docLink = document.createElement('div');\n",
              "          docLink.innerHTML = docLinkHtml;\n",
              "          element.appendChild(docLink);\n",
              "        }\n",
              "      </script>\n",
              "    </div>\n",
              "  </div>\n",
              "  "
            ]
          },
          "metadata": {},
          "execution_count": 25
        }
      ]
    },
    {
      "cell_type": "markdown",
      "source": [
        "How is the rate calculated? 1-(freq/count) \n",
        "https://pandas.pydata.org/docs/reference/api/pandas.core.groupby.GroupBy.mean.html"
      ],
      "metadata": {
        "id": "Zycw0towm20A"
      }
    },
    {
      "cell_type": "markdown",
      "metadata": {
        "id": "BQWxJEN-M6VD"
      },
      "source": [
        "First, let's check the rate at which the patients with different `readmit_30_days` labels were readmitted in the previous year. We will use a point plot. A point plot represents an estimate of central tendency for a numeric variable by the position of scatter plot points and provides some indication of the uncertainty around that estimate using error bars. "
      ]
    },
    {
      "cell_type": "code",
      "execution_count": null,
      "metadata": {
        "id": "3t11OgTgZfV8",
        "colab": {
          "base_uri": "https://localhost:8080/",
          "height": 285
        },
        "outputId": "bff1b7bb-2def-4000-affc-ddc7a601b97e"
      },
      "outputs": [
        {
          "output_type": "display_data",
          "data": {
            "text/plain": [
              "<Figure size 432x288 with 1 Axes>"
            ],
            "image/png": "[encoded data removed]"
          },
          "metadata": {}
        }
      ],
      "source": [
        "sns.pointplot(y=\"had_emergency\", x=\"readmit_30_days\", data=df, ci=95, join=False);"
      ]
    },
    {
      "cell_type": "markdown",
      "metadata": {
        "id": "Ptl-tHkDf_GJ"
      },
      "source": [
        "- The plot shows that indeed patients with `readmit_30_days=0` have a lower rate of emergency visits in the prior year, whereas patients with `readmit_30_days=1` have a larger rate. (The vertical lines indicate 95% confidence intervals obtained via boostrapping.)"
      ]
    },
    {
      "cell_type": "markdown",
      "metadata": {
        "id": "07GU8IGIY9KC"
      },
      "source": [
        "- We see a similar pattern when `readmit_30_days` is used to predict the rate of (non-emergency) hospital visits in the previous year:"
      ]
    },
    {
      "cell_type": "code",
      "execution_count": null,
      "metadata": {
        "id": "GuPPVpXrO5uE",
        "colab": {
          "base_uri": "https://localhost:8080/",
          "height": 285
        },
        "outputId": "a69ead8f-e525-4154-b0a2-6212b682807f"
      },
      "outputs": [
        {
          "output_type": "display_data",
          "data": {
            "text/plain": [
              "<Figure size 432x288 with 1 Axes>"
            ],
            "image/png": "[encoded data removed]"
          },
          "metadata": {}
        }
      ],
      "source": [
        "sns.pointplot(y=\"had_inpatient_days\", x=\"readmit_30_days\",\n",
        "              data=df, join=False);"
      ]
    },
    {
      "cell_type": "markdown",
      "metadata": {
        "id": "wN8NU8QkRMqM"
      },
      "source": [
        "Now let's take a look whether the predictiveness is similar across different race groups. First, let's check how well `readmit_30_days` predicts `had_emergency`:"
      ]
    },
    {
      "cell_type": "code",
      "execution_count": null,
      "metadata": {
        "id": "tgLhUlZzOvHC",
        "colab": {
          "base_uri": "https://localhost:8080/",
          "height": 365
        },
        "outputId": "de08043d-6442-4b77-a14e-3bc2744f8eeb"
      },
      "outputs": [
        {
          "output_type": "display_data",
          "data": {
            "text/plain": [
              "<Figure size 491.1x360 with 1 Axes>"
            ],
            "image/png": "[encoded data removed]"
          },
          "metadata": {}
        }
      ],
      "source": [
        "sns.catplot(y=\"had_emergency\", x=\"readmit_30_days\", hue=\"race\", data=df,\n",
        "            kind=\"point\", ci=95, dodge=True, join=False);"
      ]
    },
    {
      "cell_type": "markdown",
      "metadata": {
        "id": "IQ7zH3Wn416g"
      },
      "source": [
        "- The patients in the group *Unknown* have a substantially lower rate of emergency visits in the prior year, regardless of whether they are readmitted in 30 days. The readmission is still positively correlated with `had_emergency`, but note the large error bars (due to small sample sizes).\n",
        "\n",
        "- We also see that the group with feature value *AfricanAmerican* has a higher rate of emergency visits compared with other groups. However, generally the groups *Caucasian*, *AfricanAmerican* and *Other* follow similar dependence patterns."
      ]
    },
    {
      "cell_type": "markdown",
      "metadata": {
        "id": "G13abbdS7oM-"
      },
      "source": [
        "We see a similar pattern when `readmit_30_days` is used to predict the rate of (non-emergency) hospital visits in the previous year:"
      ]
    },
    {
      "cell_type": "code",
      "execution_count": null,
      "metadata": {
        "id": "Kx52yWYNQuSH",
        "colab": {
          "base_uri": "https://localhost:8080/",
          "height": 365
        },
        "outputId": "c373a449-be49-43b7-cb69-de4ae7d15756"
      },
      "outputs": [
        {
          "output_type": "display_data",
          "data": {
            "text/plain": [
              "<Figure size 491.1x360 with 1 Axes>"
            ],
            "image/png": "[encoded data removed]"
          },
          "metadata": {}
        }
      ],
      "source": [
        "sns.catplot(y=\"had_inpatient_days\", x=\"readmit_30_days\", hue=\"race\", data=df,\n",
        "            kind=\"point\", ci=95, dodge=True, join=False);"
      ]
    },
    {
      "cell_type": "markdown",
      "metadata": {
        "id": "HrCelj5_hR6a"
      },
      "source": [
        "Again, for *Unknown* the rate of (non-emergency) hospital visits in the previous year is lower than for other groups. In all groups there is a strong positive correlation between `readmit_30_days` and `had_inpatient_days`.\n",
        "\n",
        "In all cases, we see that readmission in 30 days is predictive of our two measurements of general patient health.\n",
        "\n",
        "The analysis is also surfacing the fact that patients with the value of race *Unknown* have fewer hospital visits in the preceding year (both emergency and non-emergency) than other groups. In practice, this would be a good reason to reach out to health professionals to investigate this patient cohort, to make sure that we understand why there is the systematic difference.\n",
        "\n",
        "Note that we have only investigated _predictive validity_, but there are other important aspects of construct validity which we may want to establish (see [Jacobs and Wallach, 2021](https://arxiv.org/abs/1912.05511))."
      ]
    },
    {
      "cell_type": "markdown",
      "metadata": {
        "id": "V_4CZt-UBaOQ"
      },
      "source": [
        "<a name=\"exercise-predictive-validity\"></a>\n",
        "### Exercise"
      ]
    },
    {
      "cell_type": "markdown",
      "metadata": {
        "id": "rW9ktRlqBhZA"
      },
      "source": [
        "Check the predictive validity with respect to `gender` and `age`. Do you see any differences? Can you form a hypothesis why?"
      ]
    },
    {
      "cell_type": "code",
      "execution_count": null,
      "metadata": {
        "id": "VLom8GFbUfqR",
        "colab": {
          "base_uri": "https://localhost:8080/",
          "height": 365
        },
        "outputId": "4be187dc-94aa-49e9-b962-148966e0985b"
      },
      "outputs": [
        {
          "output_type": "display_data",
          "data": {
            "text/plain": [
              "<Figure size 491.35x360 with 1 Axes>"
            ],
            "image/png": "[encoded data removed]"
          },
          "metadata": {}
        }
      ],
      "source": [
        "sns.catplot(y=\"had_inpatient_days\",x=\"readmit_30_days\",hue=\"gender\", data=df,\n",
        "            kind=\"point\", ci=95, dodge=True, join=False);"
      ]
    },
    {
      "cell_type": "code",
      "execution_count": null,
      "metadata": {
        "id": "7PdFAu3lT-pD",
        "colab": {
          "base_uri": "https://localhost:8080/",
          "height": 365
        },
        "outputId": "ccffeae9-f4e3-49bd-8f3c-7a4399ed8dd1"
      },
      "outputs": [
        {
          "output_type": "display_data",
          "data": {
            "text/plain": [
              "<Figure size 511.6x360 with 1 Axes>"
            ],
            "image/png": "[encoded data removed]"
          },
          "metadata": {}
        }
      ],
      "source": [
        "sns.catplot(y=\"had_inpatient_days\", x=\"readmit_30_days\", hue=\"age\", data=df,\n",
        "            kind=\"point\", ci=95, dodge=True, join=False);"
      ]
    },
    {
      "cell_type": "markdown",
      "metadata": {
        "id": "3i9KdmTWKUJZ"
      },
      "source": [
        "## Label imbalance\n",
        "\n"
      ]
    },
    {
      "cell_type": "markdown",
      "metadata": {
        "id": "ViGqA5VTGrEo"
      },
      "source": [
        "Now that we have established the validity of our label, we will check frequency of its values in our data. The frequency of different labels is an important descriptive characteristic in classification settings for several reasons:\n",
        "\n",
        "* some classification algorithms and performance measures might not work well with data sets with extreme class imbalance\n",
        "* in binary classification settings, our ability to evaluate error is often driven by the size of the smaller of the two classes (again, the smaller the sample the larger the uncertainty in estimates)\n",
        "* label imbalance may exacerbate the problems due to smaller group sizes in fairness assessment\n",
        "\n"
      ]
    },
    {
      "cell_type": "markdown",
      "metadata": {
        "id": "cos3--59EiZt"
      },
      "source": [
        "Let's check how many samples in our data are labeled as positive and how many as negative."
      ]
    },
    {
      "cell_type": "code",
      "execution_count": null,
      "metadata": {
        "id": "0UWBbg4Cz90t",
        "colab": {
          "base_uri": "https://localhost:8080/"
        },
        "outputId": "94338f4f-44cd-43aa-f723-2afe15514e22"
      },
      "outputs": [
        {
          "output_type": "execute_result",
          "data": {
            "text/plain": [
              "0   88.840\n",
              "1   11.160\n",
              "Name: readmit_30_days, dtype: float64"
            ]
          },
          "metadata": {},
          "execution_count": 32
        }
      ],
      "source": [
        "df[\"readmit_30_days\"].value_counts(normalize=True).mul(100)"
      ]
    },
    {
      "cell_type": "code",
      "source": [
        "df[\"readmit_30_days\"].value_counts(normalize=True).mul(100).plot.bar(rot=0)\n",
        "plt.xlabel(\"readmit_30_days\")\n",
        "plt.ylabel(\"% of patients\")"
      ],
      "metadata": {
        "colab": {
          "base_uri": "https://localhost:8080/",
          "height": 302
        },
        "id": "nPz80RH9Ui67",
        "outputId": "058afe7f-d3e9-41eb-c392-62350aec9afb"
      },
      "execution_count": null,
      "outputs": [
        {
          "output_type": "execute_result",
          "data": {
            "text/plain": [
              "Text(0, 0.5, '% of patients')"
            ]
          },
          "metadata": {},
          "execution_count": 33
        },
        {
          "output_type": "display_data",
          "data": {
            "text/plain": [
              "<Figure size 432x288 with 1 Axes>"
            ],
            "image/png": "[encoded data removed]"
          },
          "metadata": {}
        }
      ]
    },
    {
      "cell_type": "markdown",
      "metadata": {
        "id": "b-_K_KHXz9MR"
      },
      "source": [
        "As we can see, the target label is heavily skewed towards the patients not being readmitted within 30 days. In our dataset, only 11% of patients were readmitted within 30 days.\n",
        "\n",
        "Since there are fewer positive examples, we expect that we will have a much larger uncertainty (error bars) in our estimates of *false negative rates* (FNR), compared with *false positive rates* (FPR). This means that there will be larger differences between training FNR and test FNR, even if there is no overfitting, simply because of the smaller sample sizes. \n",
        "\n",
        "Our target metric is *balanced error rate*, which is the average of FPR and FNR. The value of this metric is robust to different frequencies of positives and negatives. However, since half of the metric is contributed by FNR, we expect the uncertainty in balanced error values to behave similarly to the uncertainty of FNR."
      ]
    },
    {
      "cell_type": "markdown",
      "metadata": {
        "id": "OkopoyE3GQ8g"
      },
      "source": [
        "Now, let's examine how much the label frequencies vary within each group defined by `race`:"
      ]
    },
    {
      "cell_type": "code",
      "source": [
        "sns.barplot(x=\"readmit_30_days\", y=\"race\", data=df, ci=95)"
      ],
      "metadata": {
        "colab": {
          "base_uri": "https://localhost:8080/",
          "height": 302
        },
        "id": "t5QJxc58C6ct",
        "outputId": "76f28bc5-c209-47c1-d3df-9b34f137496c"
      },
      "execution_count": null,
      "outputs": [
        {
          "output_type": "execute_result",
          "data": {
            "text/plain": [
              "<matplotlib.axes._subplots.AxesSubplot at 0x7fa5267db5d0>"
            ]
          },
          "metadata": {},
          "execution_count": 34
        },
        {
          "output_type": "display_data",
          "data": {
            "text/plain": [
              "<Figure size 432x288 with 1 Axes>"
            ],
            "image/png": "[encoded data removed]"
          },
          "metadata": {}
        }
      ]
    },
    {
      "cell_type": "code",
      "source": [
        "df.groupby(\"race\")[\"readmit_30_days\"].mean().T "
      ],
      "metadata": {
        "colab": {
          "base_uri": "https://localhost:8080/"
        },
        "id": "HbkZH1FxEOfr",
        "outputId": "4dc609b2-9c71-49b3-f885-f3aeee5c9c40"
      },
      "execution_count": null,
      "outputs": [
        {
          "output_type": "execute_result",
          "data": {
            "text/plain": [
              "race\n",
              "AfricanAmerican   0.112\n",
              "Caucasian         0.113\n",
              "Other             0.101\n",
              "Unknown           0.083\n",
              "Name: readmit_30_days, dtype: float64"
            ]
          },
          "metadata": {},
          "execution_count": 35
        }
      ]
    },
    {
      "cell_type": "markdown",
      "metadata": {
        "id": "ox06aTMmm4rB"
      },
      "source": [
        "We see the rate of *30-day readmission* is similar for the *AfricanAmerican* and *Caucasian* groups, but appears smaller for *Other* and smallest for *Unknown*. The smaller sample size of the *Other* and *Unknown* groups mean that there is more uncertainty around the estimate for these two groups."
      ]
    },
    {
      "cell_type": "markdown",
      "source": [
        "Is this consistent with an overall lower rate of hospital visits in the prior year?"
      ],
      "metadata": {
        "id": "NyGey6yDXX0Y"
      }
    },
    {
      "cell_type": "code",
      "source": [
        "sns.barplot(x=\"readmit_30_days\", y=\"had_inpatient_days\", hue=\"race\", data=df, ci=95)\n",
        "plt.legend(bbox_to_anchor=(1.02, 0.55), loc='upper left', borderaxespad=0)"
      ],
      "metadata": {
        "colab": {
          "base_uri": "https://localhost:8080/",
          "height": 302
        },
        "id": "lpsvz3knFQEr",
        "outputId": "1e331c30-9f52-4f2c-e36c-59681ce0ba36"
      },
      "execution_count": null,
      "outputs": [
        {
          "output_type": "execute_result",
          "data": {
            "text/plain": [
              "<matplotlib.legend.Legend at 0x7fa5268c0410>"
            ]
          },
          "metadata": {},
          "execution_count": 36
        },
        {
          "output_type": "display_data",
          "data": {
            "text/plain": [
              "<Figure size 432x288 with 1 Axes>"
            ],
            "image/png": "[encoded data removed]"
          },
          "metadata": {}
        }
      ]
    },
    {
      "cell_type": "markdown",
      "source": [
        "Some more visualisations of the data. What observations can you make?"
      ],
      "metadata": {
        "id": "AIycz9esKfxW"
      }
    },
    {
      "cell_type": "code",
      "source": [
        "ax = sns.boxplot(x=\"readmit_30_days\", y=\"time_in_hospital\", hue=\"race\", data=df, palette=\"Set3\")\n",
        "plt.legend(bbox_to_anchor=(1.02, 0.55), loc='upper left', borderaxespad=0)"
      ],
      "metadata": {
        "colab": {
          "base_uri": "https://localhost:8080/",
          "height": 302
        },
        "id": "4Os1PggBQeyS",
        "outputId": "c461494a-0380-4cc8-a52a-c6edc252ae47"
      },
      "execution_count": null,
      "outputs": [
        {
          "output_type": "execute_result",
          "data": {
            "text/plain": [
              "<matplotlib.legend.Legend at 0x7fa526959d90>"
            ]
          },
          "metadata": {},
          "execution_count": 37
        },
        {
          "output_type": "display_data",
          "data": {
            "text/plain": [
              "<Figure size 432x288 with 1 Axes>"
            ],
            "image/png": "[encoded data removed]"
          },
          "metadata": {}
        }
      ]
    },
    {
      "cell_type": "code",
      "source": [
        "ax = sns.boxplot(x=\"readmit_30_days\", y=\"time_in_hospital\", hue=\"age\", data=df, palette=\"Set3\")\n",
        "plt.legend(bbox_to_anchor=(1.02, 0.55), loc='upper left', borderaxespad=0)"
      ],
      "metadata": {
        "colab": {
          "base_uri": "https://localhost:8080/",
          "height": 302
        },
        "id": "yNmQL76dVizA",
        "outputId": "4db61c4f-59cc-4081-c4f5-66376b353c68"
      },
      "execution_count": null,
      "outputs": [
        {
          "output_type": "execute_result",
          "data": {
            "text/plain": [
              "<matplotlib.legend.Legend at 0x7fa5299a6290>"
            ]
          },
          "metadata": {},
          "execution_count": 38
        },
        {
          "output_type": "display_data",
          "data": {
            "text/plain": [
              "<Figure size 432x288 with 1 Axes>"
            ],
            "image/png": "[encoded data removed]"
          },
          "metadata": {}
        }
      ]
    },
    {
      "cell_type": "markdown",
      "source": [
        "A box plot (or box-and-whisker plot) help us visualise the distribution of quantitative data in a way that facilitates comparisons between variables or across levels of a categorical variable. \n",
        "\n",
        "The box shows the quartiles of the dataset while the whiskers extend to show the rest of the distribution, except for points that are determined to be “outliers” using a method that is a function of the inter-quartile range.\n",
        "\n",
        "- Box plots can help us identify imbalances within the variables. For example if the average \n",
        "\n",
        "Imbalances can affect the learning process of a machine learning model. \n",
        "\n",
        "categorical_features = [\n",
        "    \"race\",\n",
        "    \"gender\",\n",
        "    \"age\",\n",
        "    \"discharge_disposition_id\",\n",
        "    \"admission_source_id\",\n",
        "    \"medical_specialty\",\n",
        "    \"primary_diagnosis\",\n",
        "    \"max_glu_serum\",\n",
        "    \"A1Cresult\",\n",
        "    \"insulin\",\n",
        "    \"change\",\n",
        "    \"diabetesMed\",\n",
        "    \"readmitted\"\n",
        "]"
      ],
      "metadata": {
        "id": "gMFKPS0lxqGN"
      }
    },
    {
      "cell_type": "markdown",
      "metadata": {
        "id": "0AA5uoqAKUSx"
      },
      "source": [
        "## Proxies for sensitive features\n",
        "\n"
      ]
    },
    {
      "cell_type": "markdown",
      "metadata": {
        "id": "7PSup7dMJjJg"
      },
      "source": [
        "We next investigate which of the features are highly predictive of the sensitive feature *race*; such features are called *proxies*.\n",
        "\n",
        "While in this tutorial we examine fairness issues through the **impact** of the machine-learning model on different populations, there are other concepts of fairness that seek to analyze how the **model might be using information** contained in the sensitive features, and which of the information uses are justified (often using causal reasoning). More pragmatically, certain uses of sensitive features (or proxies of it) might be illegal in some contexts.\n",
        "\n",
        "Another reason to understand the proxies is because they might explain why we see differences in impact on different groups even when our model does not have access to the sensitive features directly.\n",
        "\n",
        "In this section we briefly examine the identification of such proxies (but we don't go into legal or causality considerations).\n"
      ]
    },
    {
      "cell_type": "markdown",
      "metadata": {
        "id": "1PHULa3eQEcn"
      },
      "source": [
        "In the United States, *Medicare* and *Medicaid* are joint federal and state programs to help qualified individuals pay for healthcare expenses. \n",
        "\n",
        "- *Medicare* is available to people over the age of 65 and younger individuals with severe illnesses. \n",
        "- *Medicaid* is available to all individuals under the age of 65 whose adjusted gross income falls below the Federal Poverty Line. "
      ]
    },
    {
      "cell_type": "markdown",
      "metadata": {
        "id": "VNYx0OaVElUC"
      },
      "source": [
        "First, let's explore the relationship between patients who paid with *Medicaid* and our demographic features. Because *Medicaid* is available to low-income individuals, and race is correlated with socioeconomic status in the United States, we expect there to be a relationship between `race` and paying with *Medicaid*. "
      ]
    },
    {
      "cell_type": "code",
      "execution_count": null,
      "metadata": {
        "id": "dR3eNMeY0HTi",
        "colab": {
          "base_uri": "https://localhost:8080/",
          "height": 285
        },
        "outputId": "8a62ac9c-8a68-47c8-e016-6c140a049085"
      },
      "outputs": [
        {
          "output_type": "display_data",
          "data": {
            "text/plain": [
              "<Figure size 432x288 with 1 Axes>"
            ],
            "image/png": "[encoded data removed]"
          },
          "metadata": {}
        }
      ],
      "source": [
        "sns.pointplot(y=\"medicaid\", x=\"race\", data=df, join=False, rot=45);"
      ]
    },
    {
      "cell_type": "markdown",
      "metadata": {
        "id": "MTcAD0oxbarW"
      },
      "source": [
        "From our analysis, we see that paying with *Medicaid* does appear to have some relationship with the patient's race. *Caucasian* patients are the least likely to pay with *Medicaid* compared with other groups. If paying with *Medicaid* is a proxy for socioeconomic status, then the patterns we find align with our understanding of wealth and race in the United States."
      ]
    },
    {
      "cell_type": "markdown",
      "metadata": {
        "id": "9BLSciTKaBLd"
      },
      "source": [
        "## Additional validity checks"
      ]
    },
    {
      "cell_type": "markdown",
      "metadata": {
        "id": "-PzKOA59ezFs"
      },
      "source": [
        "Similarly as we used predictive validity to check that our label aligns with the construct of \"likely to benefit from the care management program\", we can use predictive validity to verify that our various features are coherent with each other.\n",
        "\n",
        "For example, based on the eligibility criteria for *Medicaid* vs *Medicare*, we expect `medicaid` to be negatively correlated with age and `medicare` to be positively correlated with age:"
      ]
    },
    {
      "cell_type": "code",
      "execution_count": null,
      "metadata": {
        "id": "869rzUjSUe3C",
        "colab": {
          "base_uri": "https://localhost:8080/",
          "height": 285
        },
        "outputId": "aaebf375-ffd1-4e05-dcd1-19de7bc7f562"
      },
      "outputs": [
        {
          "output_type": "display_data",
          "data": {
            "text/plain": [
              "<Figure size 432x288 with 1 Axes>"
            ],
            "image/png": "[encoded data removed]"
          },
          "metadata": {}
        }
      ],
      "source": [
        "sns.pointplot(y=\"medicaid\", x=\"age\", data=df, ci=95, join=False);"
      ]
    },
    {
      "cell_type": "code",
      "execution_count": null,
      "metadata": {
        "id": "nnI8lFHFZyBL",
        "colab": {
          "base_uri": "https://localhost:8080/",
          "height": 285
        },
        "outputId": "c2f3f203-04a4-4604-f180-bdb3979e5690"
      },
      "outputs": [
        {
          "output_type": "display_data",
          "data": {
            "text/plain": [
              "<Figure size 432x288 with 1 Axes>"
            ],
            "image/png": "[encoded data removed]"
          },
          "metadata": {}
        }
      ],
      "source": [
        "sns.pointplot(y=\"medicare\", x=\"age\", data=df, ci=95, join=False);"
      ]
    },
    {
      "cell_type": "markdown",
      "metadata": {
        "id": "dBgmuoz8aXw4"
      },
      "source": [
        "As we see, that's indeed the case."
      ]
    },
    {
      "cell_type": "markdown",
      "metadata": {
        "id": "DdrS4By1dVk-"
      },
      "source": [
        "<a name=\"exercise-dataset\"></a>\n",
        "## Exercise"
      ]
    },
    {
      "cell_type": "markdown",
      "metadata": {
        "id": "V-sOl0rqblsb"
      },
      "source": [
        "Now, let's explore the relationship between paying with `medicare` and other demographic features. In the below sections, feel free to perform any analysis you would like to better understand the relationship between `medicare` and `race` and `gender` in this dataset."
      ]
    },
    {
      "cell_type": "code",
      "execution_count": null,
      "metadata": {
        "id": "lp02oUbWZx54",
        "colab": {
          "base_uri": "https://localhost:8080/",
          "height": 285
        },
        "outputId": "ac2db3d8-f156-431a-a4a2-9d727aa755e0"
      },
      "outputs": [
        {
          "output_type": "display_data",
          "data": {
            "text/plain": [
              "<Figure size 432x288 with 1 Axes>"
            ],
            "image/png": "[encoded data removed]"
          },
          "metadata": {}
        }
      ],
      "source": [
        "sns.pointplot(y=\"medicare\", x=\"race\", data=df, ci=95, join=False);"
      ]
    },
    {
      "cell_type": "code",
      "execution_count": null,
      "metadata": {
        "id": "ONJcedCWULXN",
        "colab": {
          "base_uri": "https://localhost:8080/",
          "height": 285
        },
        "outputId": "004299d7-4d54-4a6f-9510-0d093f36472d"
      },
      "outputs": [
        {
          "output_type": "display_data",
          "data": {
            "text/plain": [
              "<Figure size 432x288 with 1 Axes>"
            ],
            "image/png": "[encoded data removed]"
          },
          "metadata": {}
        }
      ],
      "source": [
        "sns.pointplot(y=\"medicare\", x=\"gender\", data=df, ci=95, join=False);"
      ]
    },
    {
      "cell_type": "code",
      "execution_count": null,
      "metadata": {
        "id": "jXtY7_xdULLe"
      },
      "outputs": [],
      "source": [
        "#sns.pointplot(y=\"medicare\", x=\"race\", hue=\"readmit_30_days\", data=df, ci=95, join=False);\n",
        "#plt.legend(bbox_to_anchor=(1.02, 0.55), loc='upper left', borderaxespad=0)"
      ]
    },
    {
      "cell_type": "markdown",
      "source": [
        "##Examine Correlations between variables\n",
        "\n",
        "It is important to understand whether there exist any correlations between the inputs and the label. \n",
        "\n",
        "The following code returns the correlation of all features with \"readmit_30_days\", a single, dependent variable, sorted by \"readmit_30_days\" in a descending manner."
      ],
      "metadata": {
        "id": "3PDMNmsKogwd"
      }
    },
    {
      "cell_type": "code",
      "source": [
        "df.corr()[['readmit_30_days']].sort_values(by='readmit_30_days', ascending=False)"
      ],
      "metadata": {
        "colab": {
          "base_uri": "https://localhost:8080/",
          "height": 426
        },
        "id": "SJjQ605JojlL",
        "outputId": "91cdcacf-125c-4716-a822-fc62b720d096"
      },
      "execution_count": null,
      "outputs": [
        {
          "output_type": "execute_result",
          "data": {
            "text/plain": [
              "                     readmit_30_days\n",
              "readmit_30_days                1.000\n",
              "readmit_binary                 0.383\n",
              "had_inpatient_days             0.122\n",
              "had_emergency                  0.061\n",
              "number_diagnoses               0.050\n",
              "time_in_hospital               0.044\n",
              "num_medications                0.038\n",
              "had_outpatient_days            0.035\n",
              "num_lab_procedures             0.020\n",
              "medicare                       0.013\n",
              "medicaid                       0.004\n",
              "num_procedures                -0.012"
            ],
            "text/html": [
              "\n",
              "  <div id=\"df-4f67a0bf-c811-45c5-b2f8-2c116c604734\">\n",
              "    <div class=\"colab-df-container\">\n",
              "      <div>\n",
              "<style scoped>\n",
              "    .dataframe tbody tr th:only-of-type {\n",
              "        vertical-align: middle;\n",
              "    }\n",
              "\n",
              "    .dataframe tbody tr th {\n",
              "        vertical-align: top;\n",
              "    }\n",
              "\n",
              "    .dataframe thead th {\n",
              "        text-align: right;\n",
              "    }\n",
              "</style>\n",
              "<table border=\"1\" class=\"dataframe\">\n",
              "  <thead>\n",
              "    <tr style=\"text-align: right;\">\n",
              "      <th></th>\n",
              "      <th>readmit_30_days</th>\n",
              "    </tr>\n",
              "  </thead>\n",
              "  <tbody>\n",
              "    <tr>\n",
              "      <th>readmit_30_days</th>\n",
              "      <td>1.000</td>\n",
              "    </tr>\n",
              "    <tr>\n",
              "      <th>readmit_binary</th>\n",
              "      <td>0.383</td>\n",
              "    </tr>\n",
              "    <tr>\n",
              "      <th>had_inpatient_days</th>\n",
              "      <td>0.122</td>\n",
              "    </tr>\n",
              "    <tr>\n",
              "      <th>had_emergency</th>\n",
              "      <td>0.061</td>\n",
              "    </tr>\n",
              "    <tr>\n",
              "      <th>number_diagnoses</th>\n",
              "      <td>0.050</td>\n",
              "    </tr>\n",
              "    <tr>\n",
              "      <th>time_in_hospital</th>\n",
              "      <td>0.044</td>\n",
              "    </tr>\n",
              "    <tr>\n",
              "      <th>num_medications</th>\n",
              "      <td>0.038</td>\n",
              "    </tr>\n",
              "    <tr>\n",
              "      <th>had_outpatient_days</th>\n",
              "      <td>0.035</td>\n",
              "    </tr>\n",
              "    <tr>\n",
              "      <th>num_lab_procedures</th>\n",
              "      <td>0.020</td>\n",
              "    </tr>\n",
              "    <tr>\n",
              "      <th>medicare</th>\n",
              "      <td>0.013</td>\n",
              "    </tr>\n",
              "    <tr>\n",
              "      <th>medicaid</th>\n",
              "      <td>0.004</td>\n",
              "    </tr>\n",
              "    <tr>\n",
              "      <th>num_procedures</th>\n",
              "      <td>-0.012</td>\n",
              "    </tr>\n",
              "  </tbody>\n",
              "</table>\n",
              "</div>\n",
              "      <button class=\"colab-df-convert\" onclick=\"convertToInteractive('df-4f67a0bf-c811-45c5-b2f8-2c116c604734')\"\n",
              "              title=\"Convert this dataframe to an interactive table.\"\n",
              "              style=\"display:none;\">\n",
              "        \n",
              "  <svg xmlns=\"http://www.w3.org/2000/svg\" height=\"24px\"viewBox=\"0 0 24 24\"\n",
              "       width=\"24px\">\n",
              "    <path d=\"M0 0h24v24H0V0z\" fill=\"none\"/>\n",
              "    <path d=\"M18.56 5.44l.94 2.06.94-2.06 2.06-.94-2.06-.94-.94-2.06-.94 2.06-2.06.94zm-11 1L8.5 8.5l.94-2.06 2.06-.94-2.06-.94L8.5 2.5l-.94 2.06-2.06.94zm10 10l.94 2.06.94-2.06 2.06-.94-2.06-.94-.94-2.06-.94 2.06-2.06.94z\"/><path d=\"M17.41 7.96l-1.37-1.37c-.4-.4-.92-.59-1.43-.59-.52 0-1.04.2-1.43.59L10.3 9.45l-7.72 7.72c-.78.78-.78 2.05 0 2.83L4 21.41c.39.39.9.59 1.41.59.51 0 1.02-.2 1.41-.59l7.78-7.78 2.81-2.81c.8-.78.8-2.07 0-2.86zM5.41 20L4 18.59l7.72-7.72 1.47 1.35L5.41 20z\"/>\n",
              "  </svg>\n",
              "      </button>\n",
              "      \n",
              "  <style>\n",
              "    .colab-df-container {\n",
              "      display:flex;\n",
              "      flex-wrap:wrap;\n",
              "      gap: 12px;\n",
              "    }\n",
              "\n",
              "    .colab-df-convert {\n",
              "      background-color: #E8F0FE;\n",
              "      border: none;\n",
              "      border-radius: 50%;\n",
              "      cursor: pointer;\n",
              "      display: none;\n",
              "      fill: #1967D2;\n",
              "      height: 32px;\n",
              "      padding: 0 0 0 0;\n",
              "      width: 32px;\n",
              "    }\n",
              "\n",
              "    .colab-df-convert:hover {\n",
              "      background-color: #E2EBFA;\n",
              "      box-shadow: 0px 1px 2px rgba(60, 64, 67, 0.3), 0px 1px 3px 1px rgba(60, 64, 67, 0.15);\n",
              "      fill: #174EA6;\n",
              "    }\n",
              "\n",
              "    [theme=dark] .colab-df-convert {\n",
              "      background-color: #3B4455;\n",
              "      fill: #D2E3FC;\n",
              "    }\n",
              "\n",
              "    [theme=dark] .colab-df-convert:hover {\n",
              "      background-color: #434B5C;\n",
              "      box-shadow: 0px 1px 3px 1px rgba(0, 0, 0, 0.15);\n",
              "      filter: drop-shadow(0px 1px 2px rgba(0, 0, 0, 0.3));\n",
              "      fill: #FFFFFF;\n",
              "    }\n",
              "  </style>\n",
              "\n",
              "      <script>\n",
              "        const buttonEl =\n",
              "          document.querySelector('#df-4f67a0bf-c811-45c5-b2f8-2c116c604734 button.colab-df-convert');\n",
              "        buttonEl.style.display =\n",
              "          google.colab.kernel.accessAllowed ? 'block' : 'none';\n",
              "\n",
              "        async function convertToInteractive(key) {\n",
              "          const element = document.querySelector('#df-4f67a0bf-c811-45c5-b2f8-2c116c604734');\n",
              "          const dataTable =\n",
              "            await google.colab.kernel.invokeFunction('convertToInteractive',\n",
              "                                                     [key], {});\n",
              "          if (!dataTable) return;\n",
              "\n",
              "          const docLinkHtml = 'Like what you see? Visit the ' +\n",
              "            '<a target=\"_blank\" href=https://colab.research.google.com/notebooks/data_table.ipynb>data table notebook</a>'\n",
              "            + ' to learn more about interactive tables.';\n",
              "          element.innerHTML = '';\n",
              "          dataTable['output_type'] = 'display_data';\n",
              "          await google.colab.output.renderOutput(dataTable, element);\n",
              "          const docLink = document.createElement('div');\n",
              "          docLink.innerHTML = docLinkHtml;\n",
              "          element.appendChild(docLink);\n",
              "        }\n",
              "      </script>\n",
              "    </div>\n",
              "  </div>\n",
              "  "
            ]
          },
          "metadata": {},
          "execution_count": 45
        }
      ]
    },
    {
      "cell_type": "markdown",
      "source": [
        "There are no strong positive correlations between the target variable and the predictor which means that there are no linear relationships between them. This also eliminates the risk that the machine learning model will learn to make predictions based on the values of one of the inputs. Hence we must always check whether:\n",
        "- there are correlations between inputs and the target variable (i.e. label)\n",
        "- there are correlations between the inputs. If two inputs correlate then we don't need both of those and having both simply increases computational cost.  "
      ],
      "metadata": {
        "id": "Dqx-g7OOq0Lk"
      }
    },
    {
      "cell_type": "code",
      "source": [
        "plt.figure(figsize=(8, 12))\n",
        "heatmap = sns.heatmap(df.corr()[['readmit_30_days']].sort_values(by='readmit_30_days', ascending=False), vmin=-1, vmax=1, annot=True, cmap='BrBG')\n",
        "heatmap.set_title('Features Correlating with readmit_30_days', fontdict={'fontsize':18}, pad=16);"
      ],
      "metadata": {
        "colab": {
          "base_uri": "https://localhost:8080/",
          "height": 734
        },
        "id": "aVVtvI8splTN",
        "outputId": "30f55340-5da3-4ace-8744-a045b17fde57"
      },
      "execution_count": null,
      "outputs": [
        {
          "output_type": "display_data",
          "data": {
            "text/plain": [
              "<Figure size 576x864 with 2 Axes>"
            ],
            "image/png": "[encoded data removed]"
          },
          "metadata": {}
        }
      ]
    },
    {
      "cell_type": "code",
      "source": [
        "np.triu(np.ones_like(df.corr()))\n",
        "plt.figure(figsize=(16, 6))\n",
        "# define the mask to set the values in the upper triangle to True\n",
        "mask = np.triu(np.ones_like(df.corr(), dtype=bool))\n",
        "heatmap = sns.heatmap(df.corr(), mask=mask, vmin=-1, vmax=1, annot=True, cmap='BrBG')\n",
        "heatmap.set_title('Triangle Correlation Heatmap', fontdict={'fontsize':18}, pad=16);\n"
      ],
      "metadata": {
        "colab": {
          "base_uri": "https://localhost:8080/",
          "height": 512
        },
        "id": "z2YXU1eYp3g1",
        "outputId": "7400101a-f4a8-4755-ca17-6bbd798fba1c"
      },
      "execution_count": null,
      "outputs": [
        {
          "output_type": "display_data",
          "data": {
            "text/plain": [
              "<Figure size 1152x432 with 2 Axes>"
            ],
            "image/png": "[encoded data removed]"
          },
          "metadata": {}
        }
      ]
    },
    {
      "cell_type": "markdown",
      "source": [
        "Are you noticing any patters?"
      ],
      "metadata": {
        "id": "-r_7oban5CoH"
      }
    },
    {
      "cell_type": "markdown",
      "metadata": {
        "id": "ZVSerRqDG3we"
      },
      "source": [
        "<a name=\"datasheets\"></a>\n",
        "## Datasheets for datasets"
      ]
    },
    {
      "cell_type": "markdown",
      "metadata": {
        "id": "ACLMWSAwGaLc"
      },
      "source": [
        "The _datasheets_ practice was proposed by [Gebru et al. (2018)](https://arxiv.org/abs/1803.09010). A datasheet of a given dataset documents the motivation behind the dataset creation, the dataset composition, collection process, recommended uses and many other characteristics. In the words of Gebru et al., the goal is to\n",
        "> facilitate better communication between dataset creators\n",
        "> and dataset consumers, and encourage the machine learning\n",
        "> community to prioritize transparency and accountability.\n",
        "\n",
        "In this section, we show how to fill in some of the sections of the datasheet for the dataset that we are using. The information is obtained directly from [Strack et al. (2014)](https://www.hindawi.com/journals/bmri/2014/781670/)."
      ]
    },
    {
      "cell_type": "markdown",
      "metadata": {
        "id": "fcc4cUMhZnCb"
      },
      "source": [
        "### Example sections of a datasheet"
      ]
    },
    {
      "cell_type": "markdown",
      "metadata": {
        "id": "0TIPJIhX1IKJ"
      },
      "source": [
        "**For what purpose was the dataset created?** *Was there a specific task in mind? Was there a specific gap that needed to be filled?*"
      ]
    },
    {
      "cell_type": "markdown",
      "metadata": {
        "id": "sBNKbKJQJbmf"
      },
      "source": [
        "In the words of the dataset authors:\n",
        "> [...] the management of hyperglycemia in the hospitalized patient has a significant bearing on outcome, in terms of both morbidity and mortality. This recognition has led to the development of formalized protocols in the intensive care unit (ICU) setting [...] However, the same cannot be said for most non-ICU inpatient admissions. [...] there are few national assessments of diabetes care in the hospitalized patient which could serve as a baseline for change [in the non-ICU protocols]. The present analysis of a large clinical database was undertaken to examine historical patterns of diabetes care in patients with diabetes admitted to a US hospital and to inform future directions which might lead to improvements in patient safety."
      ]
    },
    {
      "cell_type": "markdown",
      "metadata": {
        "id": "iA-XRu0o1ErL"
      },
      "source": [
        "**Who created the dataset (e.g., which team) and on behalf of which entity?**"
      ]
    },
    {
      "cell_type": "markdown",
      "metadata": {
        "id": "zQSHxl26LQkt"
      },
      "source": [
        "The dataset was created by [Strack et al. (2014)](https://www.hindawi.com/journals/bmri/2014/781670/): a team of researchers from a variety of disciplines, ranging from computer science to public health, from three institutions (Virginia Commonwealth University, University of Cordoba, and Polish Academy of Sciences)."
      ]
    },
    {
      "cell_type": "markdown",
      "metadata": {
        "id": "0Qx32mSJG3zP"
      },
      "source": [
        "#### **Composition**"
      ]
    },
    {
      "cell_type": "markdown",
      "metadata": {
        "id": "8RS2V8001F3E"
      },
      "source": [
        "**What do the instances that comprise the dataset represent?**\n",
        "\n"
      ]
    },
    {
      "cell_type": "markdown",
      "metadata": {
        "id": "JPy_TXp_1Gub"
      },
      "source": [
        "Each instance in this dataset represents a hospital admission for diabetic patient (diabetes was entered as a possible diagnosis for the patient) whose hospital stay lasted between one to fourteen days."
      ]
    },
    {
      "cell_type": "markdown",
      "metadata": {
        "id": "eOb0FPeOJqxm"
      },
      "source": [
        "**Is any information missing from individual instances?**"
      ]
    },
    {
      "cell_type": "markdown",
      "metadata": {
        "id": "4vlZWeQjJq8w"
      },
      "source": [
        "The features `Payer Code` and `Medical Specialty` have 40,255 and 49,947 missing values, respectively. For `Payer Code`, these missing values are reflected in the category *Unknown*. For `Medical Specialty`, these missing values are reflecting in the category *Missing*. \n",
        "\n",
        "For our demographic features, we are missing the `Gender` information for three patients in the dataset. These three records were dropped from our final dataset. Regarding `Race`, the 2,271 missing values were recoded into the `Unknown` race category. \n",
        "\n"
      ]
    },
    {
      "cell_type": "markdown",
      "metadata": {
        "id": "Uh0lLV6mJrSp"
      },
      "source": [
        "**Does the dataset identify any subpopulations (e.g., by age, gender)?**"
      ]
    },
    {
      "cell_type": "markdown",
      "metadata": {
        "id": "U-ZnQfibJrcQ"
      },
      "source": [
        "Patients are identified by gender, age group, and race. \n",
        "\n",
        "For gender, patients are identified as Male, Female, or Unknown. There were only three instances where the patient gender is *Unknown*, so these records were removed from our dataset.\n",
        "\n",
        "Gender | Count| Percentage\n",
        "------ | ------|----------\n",
        "Male      | 47055     | 46.2%\n",
        "Female     |  54708     | 53.7%  \n",
        "\n",
        "\n",
        "\n",
        "For age group, patients are binned into three age buckets: *30 years or younger*, *30-60 years*, *Older than 60 years*.\n",
        "\n",
        "Age Group |Count| Percentage\n",
        "------ | ------|----------\n",
        "30 years or younger      | 2509     | 2.4%\n",
        "30-60 years       | 30716   | 30.2%\n",
        "Older than 60 years      |   68538    | 67.4%  \n",
        "\n",
        "\n",
        "For race, patients are identified as *AfricanAmerican*, *Caucasian*, and *Other*. For individuals whose race information was not collected during hospital admission, their race is listed as *Unknown*.\n",
        "\n",
        "Race | Count| Percentage\n",
        "------ | ------|----------\n",
        "Caucasian      | 76099     | 74.8%\n",
        "AfricanAmerican     |  19210     | 18.9%  \n",
        "Other        |     4183         |  4.1%\n",
        "Unknown        |    2271          | 2.2%"
      ]
    },
    {
      "cell_type": "markdown",
      "metadata": {
        "id": "yzXw0egqG4J4"
      },
      "source": [
        "#### **Preprocessing**"
      ]
    },
    {
      "cell_type": "markdown",
      "metadata": {
        "id": "rGfxGcI21Fyj"
      },
      "source": [
        "**Was any preprocessing/cleaning/labeling of the data done?**"
      ]
    },
    {
      "cell_type": "markdown",
      "metadata": {
        "id": "5jO4Pf911GrL"
      },
      "source": [
        "For the `race` feature, the categories of *Asian* and *Hispanic* and *Other* were merged into the *Other* category. The `age` feature was bucketed into 30-year intervals (*30 years and below*, *30 to 60 years*, and *Over 60 years*). The `discharge_disposition_id` was binarized into a boolean outcome on whether an patient was discharged to home.\n",
        "\n",
        "The full preprocessing code is provided in the file `preprocess.py` of the tutorial [GitHub repository](https://github.com/fairlearn/talks/blob/main/2021_scipy_tutorial/).\n",
        "\n",
        "Let's examine the file? any thoughts?\n",
        "\n",
        "- Can we introduce bias at the pro-processing stage?\n",
        "- How do we deal with missing values? Can imputing missing values introduce unfairness?\n"
      ]
    },
    {
      "cell_type": "markdown",
      "metadata": {
        "id": "C8b5nXfPIA7a"
      },
      "source": [
        "#### **Uses**\n",
        "\n"
      ]
    },
    {
      "cell_type": "markdown",
      "metadata": {
        "id": "_YH8evvN1HX2"
      },
      "source": [
        "**Has the dataset been used for any tasks already?** "
      ]
    },
    {
      "cell_type": "markdown",
      "metadata": {
        "id": "H8RW1LKW1Hbg"
      },
      "source": [
        "This dataset has been used by [Strack et al. (2014)](https://www.hindawi.com/journals/bmri/2014/781670/) to model the relationship between patient readmission and HbA1c measurement during admission, based on primary medical diagnosis.\n",
        "\n",
        "The dataset is publicly available through the UCI Machine Learning Repository and, as of May 2021, has received over 350,000 views."
      ]
    },
    {
      "cell_type": "code",
      "source": [
        "from google.colab import drive\n",
        "drive.mount(\"/content/drive\")\n",
        "!ls \"/content/drive/My Drive/Colab Notebooks/RSS_organised/\"\n",
        "\n",
        "!jupyter nbconvert  --to pdf '/content/drive/My Drive/Colab Notebooks/RSS_organised/P1FairlearnEthicalAI.ipynb' &> /dev/null"
      ],
      "metadata": {
        "id": "s_ONeljyVhTU"
      },
      "execution_count": null,
      "outputs": []
    }
  ],
  "metadata": {
    "colab": {
      "collapsed_sections": [],
      "name": "P1FairlearnEthicalAI.ipynb",
      "provenance": [],
      "toc_visible": true,
      "include_colab_link": true
    },
    "interpreter": {
      "hash": "a025db62d48a12d86b0e6b0cb53f59776c5e11a448915a1ba45134646da53519"
    },
    "kernelspec": {
      "display_name": "Python 3.8.5 64-bit ('base': conda)",
      "name": "python3"
    },
    "language_info": {
      "name": "python",
      "version": ""
    }
  },
  "nbformat": 4,
  "nbformat_minor": 0
}