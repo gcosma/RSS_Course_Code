{
  "nbformat": 4,
  "nbformat_minor": 0,
  "metadata": {
    "colab": {
      "name": "COP509Main.ipynb",
      "provenance": [],
      "collapsed_sections": [],
      "toc_visible": true,
      "authorship_tag": "ABX9TyPdWGop84K/pD5+6CMlWBMR",
      "include_colab_link": true
    },
    "kernelspec": {
      "name": "python3",
      "display_name": "Python 3"
    },
    "language_info": {
      "name": "python"
    }
  },
  "cells": [
    {
      "cell_type": "markdown",
      "metadata": {
        "id": "view-in-github",
        "colab_type": "text"
      },
      "source": [
        "<a href=\"https://colab.research.google.com/github/gcosma/COP509/blob/main/COP509Main.ipynb\" target=\"_parent\"><img src=\"https://colab.research.google.com/assets/colab-badge.svg\" alt=\"Open In Colab\"/></a>"
      ]
    },
    {
      "cell_type": "markdown",
      "metadata": {
        "id": "HEBRoF3iX7j6"
      },
      "source": [
        "**Introduction to COP509: Natural Language Processing**"
      ]
    },
    {
      "cell_type": "markdown",
      "metadata": {
        "id": "GIWisEFV1g-i"
      },
      "source": [
        "**Module Overview**\n",
        "You will learn how to process text data for information retrieval, classification and summarisation.\n",
        "\n",
        "| Day               | Topic          | \n",
        "| :---------                 | :------------------ | \n",
        "| Day 1     | Introduction to NLP and Deep Learning|   \n",
        "| Day 2     | Bag of Words|      \n",
        "| Day 3     | LSI for Information Retrieval; Evaluation Metrics|   \n",
        "| Day 4     | NLP with Deep Learning and Word Embeddings|   \n",
        "| Day 5     | Sentiment Analysis with BERT|   \n",
        "| Day 6     | Text Summarisation|  \n",
        "| Day 7     | Coursework|   \n",
        "\n",
        "\n",
        "\n"
      ]
    },
    {
      "cell_type": "markdown",
      "metadata": {
        "id": "BiMonOD2OCFq"
      },
      "source": [
        "**Sessions**\n",
        "\n",
        "| Week 4 and 5   |Lecture (Dual)|Lab (Dual)           | \n",
        "| :---------     | :---------   | :------------------ |\n",
        "Monday| \t10:00-11:00 \t|11:00-13:00 (2) |\n",
        "Tuesday| \t10:00-11:00 |\t11:00-13:00 (2) |\n",
        "Wednesday| \t |\t10:00-13:00 (3) |\n",
        "Thursday| \t10:00-11:00 |\t11:00-13:00 (2) |\n",
        "Friday| \t10:00-11:00 |\t11:00-13:00 (2)|\n",
        "Total:| \t4 x 2=8 hours |\t11 x 2 = 22 hours |\n",
        "\n",
        "\n",
        "| Week 4 and 5    |Lecture |Type  (On Demand)     | \n",
        "| :---------     | :---------   | :------------------ |\n",
        "Tuesday |\t15:00-17:00 |\tOn demand (2)|\n",
        "Wednesday |\t15:00-16:00 |\tOn demand (1) |\n",
        "Thursday| \t15:00-17:00 |\tOn demand (2) |\n",
        "Friday |\t15:00-16:00 |\tOn demand (1) |\n",
        "Total: \t6 x 2=12 hours \t \n",
        "\n",
        "| Week 6   | Type (Remote IT - Dron In Session)   \n",
        "| :---------     | :---------   \n",
        "Monday | \t10:00-11:00 (1) |\n",
        "Wednesday |\t10:00-11:00 (1)|\n",
        "Friday |\t10:00-11:00 (1)|\n",
        "Total: \t3 hours \n"
      ]
    },
    {
      "cell_type": "markdown",
      "metadata": {
        "id": "B7mUqoa7YCl4"
      },
      "source": [
        "# Week 1, Day 1 Monday: Introduction to NLP \n",
        "---"
      ]
    },
    {
      "cell_type": "markdown",
      "metadata": {
        "id": "JjFcjehabwXB"
      },
      "source": [
        "My slides on NLP \n",
        "About the module\n",
        "\n",
        "**PPT Slides [on-demand]:**\n",
        "\n",
        "[Slides: Boolean Retrieval](https://docs.google.com/presentation/d/1IRFW6xu2TNQIn9FC3ofA06OVxIpnpOOV/edit?usp=sharing&ouid=110090632559945494350&rtpof=true&sd=true)  \n",
        "\n",
        "[Slides: Intersecting Posting Lists](https://docs.google.com/presentation/d/1hbbBHrPfeyQZ5pPqRV88EMRV_I1VtiWA/edit?usp=sharing&ouid=110090632559945494350&rtpof=true&sd=true) \n",
        "\n",
        " **Recordings for the PPTs [on-demand]:**\n",
        "\n",
        "[Recording: Boolean Retrieval recording](https://drive.google.com/file/d/1l2qA8-pmhZtEnVjQ1j71oelq4USnQj7M/view?usp=sharing)\n",
        "\n",
        "[Recording: Intersecting Posting Lists recording](https://drive.google.com/file/d/1l2qA8-pmhZtEnVjQ1j71oelq4USnQj7M/view?usp=sharing)\n",
        "\n",
        "**Lab Tutorials**\n",
        "\n",
        "Colab page: [Cleaning Text Data- Lecture](https://colab.research.google.com/drive/1zB8-3HelwNngZ1PuKi6756L3u5hpZTOy?usp=sharing) **Note we will cover preprocessing in the lecture tomorrow**\n",
        "\n",
        "Colab page: [Introduction to Colab for machine learning](https://colab.research.google.com/drive/1pKqHYLsxV91MmGaNFgRPuZb7U34hllUO?usp=sharing)\n",
        "\n",
        "Colab page: [How to Clean Text for Machine Learning with Python](https://colab.research.google.com/drive/1073Shhvrp43KpCCDk5iUJjxxBwP3S3Pr?usp=sharing)\n",
        "\n",
        "**Lab Exercise (No. 1) (Yan)**\n",
        "\n",
        "Your task is to clean the Art Rating dataset that has been provided to you.Great if you can explore both manual and NLTK approaches."
      ]
    },
    {
      "cell_type": "markdown",
      "metadata": {
        "id": "jGc8Y6QIYEAY"
      },
      "source": [
        "# Week 1, Day 2 Tuesday: Bag-Of-Words\n",
        "---"
      ]
    },
    {
      "cell_type": "markdown",
      "metadata": {
        "id": "hG44CHlzfkbm"
      },
      "source": [
        "**Lecture Material**\n",
        "\n",
        "**PowerPoint Presentation**\n",
        "\n",
        "[VSM Part 1: Ranked Retrieval](https://docs.google.com/presentation/d/1g2DweBphynTzsEd_L1jQjw7Xp2zYGsJA/edit?usp=sharing&ouid=110090632559945494350&rtpof=true&sd=true)\n",
        "\n",
        "[VSM Part 2: Term Frequency](https://docs.google.com/presentation/d/1JplCLgZpODtTS2YPxf06Zwa-1bueLADv/edit?usp=sharing&ouid=110090632559945494350&rtpof=true&sd=true)\n",
        "\n",
        "[VSM Part 3: TF-IDF](https://docs.google.com/presentation/d/1KFmzzTFVth4BhLbUdrARewCrFE7Fjskw/edit?usp=sharing&ouid=110090632559945494350&rtpof=true&sd=true)\n",
        "\n",
        "[VSM Part 4a: The Vector Space Model](https://docs.google.com/presentation/d/17o3WcVQTKxomlrThr7MQlNWWdkVetE3D/edit?usp=sharing&ouid=110090632559945494350&rtpof=true&sd=true)\n",
        "\n",
        "**Recorded Lectures**\n",
        "\n",
        "[VSM Part 1: Ranked Retrieval](https://drive.google.com/file/d/1Jk2kizgw471cKJkbtJhFfwY30MK5aH81/view?usp=sharing)\n",
        "\n",
        "[VSM Part 2: Term Frequency](https://drive.google.com/file/d/1EF6zCoSwZ_oLd_aYPpvwqnHhgjd2HyMe/view?usp=sharing)\n",
        "\n",
        "[VSM Part 3: TF-IDF](https://drive.google.com/file/d/1jQS6YWYHa5YJzZ6S20pN7i3vpwj3i1e1/view?usp=sharing)\n",
        "\n",
        "[VSM Part 4a: The Vector Space Model and Computing Vector Similarity for Unormalised Vectors](https://drive.google.com/file/d/1QEoeJwGCcvCTFwZs6xTgxRo6EyBMufBp/view?usp=sharing)\n",
        "\n",
        "[VSM Part 4: Computing Vector Similarity for Normalised Vectors](https://drive.google.com/file/d/1bpbf1MXHIr3BFpYdwC2x2ewudUxu8NTl/view?usp=sharing)\n",
        "\n",
        "**Colab page:**\n",
        "\n",
        "[Bag of Words](https://colab.research.google.com/drive/1XFRKBLCLSVuXmBeE3OGg4hzr7TxbmKvD?usp=sharing)\n",
        "\n",
        "**Lab Tutorial**\n",
        "\n",
        "Colab page: [How to Develop a Deep Learning Bag-of-Words Model for Sentiment Analysis (Text Classification)](https://colab.research.google.com/drive/1dTFUKVnqCJVvQckf0kbfaFNb8kK7bX5y?usp=sharing) \n",
        "\n",
        "  **Lab Exercise (No. 2) (Yan)**\n",
        "\n",
        "Your task is to use the cleaned ArtReviews dataset and the ArtRatings(classes) and repeat the Lab sheet to create a Sentiment analysis model as follows (and as explained in the lab tutorial).\n",
        "  1. First sentiment analysis model\n",
        "  2. Comparing word scoring models\n",
        "  3. Making a prediction for new reviews"
      ]
    },
    {
      "cell_type": "markdown",
      "metadata": {
        "id": "xQo3cHw6YVEY"
      },
      "source": [
        "# Week 1, Day 3 Wednesday (lab only) & Day 4 Thursday : NLP with Deep Learning and Word Embeddings\n",
        "---"
      ]
    },
    {
      "cell_type": "markdown",
      "metadata": {
        "id": "YK7GzBcuimzC"
      },
      "source": [
        "**Day 3 Lab Material**\n",
        "\n",
        "[Best Practices for Text Classification with Deep Learning](https://machinelearningmastery.com/best-practices-document-classification-deep-learning/)\n",
        "\n",
        "Colab page: [Word Embedding Representation](https://colab.research.google.com/drive/1ylqlTKgTX_AVUgkrPYvuTJmP8V33gKse?usp=sharing)\n",
        "\n",
        "Colab page: [Learned Embedding](https://colab.research.google.com/drive/1YBTq8whaCg4EGRZkRHlRDQt7b3nNDZSP?usp=sharing)\n",
        "\n",
        "Colab page: [Classifying Text](https://colab.research.google.com/drive/1pM9sXj_S4vm59_jpdGK2q6nyB0P8U9gv?usp=sharing)   [TO DO - incomplete code ]\n",
        "\n",
        "**Day 3 and 4 Lab Tutorial**\n",
        "\n",
        "[Deep Convolutional Neural Network for Sentiment Analysis (Text Classification)](https://colab.research.google.com/drive/1B3MGqu9eU0OqTjUS__qsWk1SM5gesDle?usp=sharing) - **Yan** can you get the code to work for sections 4 and 5?\n",
        "\n",
        "**Day 3 and 4 Lab Exercise (No. 3) (Yan)**\n",
        "\n",
        "Your task is to use the cleaned ArtReviews dataset and the ArtRatings(classes) and repeat the Lab Tutorial (Day 4 lab tutorial). Briefly outline in bullets the main findings. \n",
        "\n",
        "- How to prepare movie review text data for classification with deep learning methods.\n",
        "- How to learn a word embedding as part of fitting a deep learning model.\n",
        "- How to learn a standalone word embedding and how to use a pre-trained embedding in a neural network model."
      ]
    },
    {
      "cell_type": "markdown",
      "metadata": {
        "id": "LBBwVOxhYTGR"
      },
      "source": [
        "# Week 1, Day 5 Friday: LSI for Information Retrieval\n",
        "---"
      ]
    },
    {
      "cell_type": "markdown",
      "metadata": {
        "id": "CYCEAljEnoii"
      },
      "source": [
        "**Lecture Material**\n",
        "\n",
        "**PPT Slides**\n",
        "\n",
        "[LSA Part 1 - Latent Semantic Indexing](https://docs.google.com/presentation/d/19jPwerqd7G3Jw7oTmviPeU7QtjQ3SMZj/edit?usp=sharing&ouid=110090632559945494350&rtpof=true&sd=true)\n",
        "\n",
        "[LSA Part 2 - Dimensionality Reduction](https://docs.google.com/presentation/d/1cDWDU3spgyCNHjSir9I9ZpSrz8vacZlu/edit?usp=sharing&ouid=110090632559945494350&rtpof=true&sd=true)\n",
        "\n",
        "[LSA Part 3 - LSI for information retrieval](https://docs.google.com/presentation/d/1ODMFK089oOWt4_6hibVyhkxdJ_wbcfdd/edit?usp=sharing&ouid=110090632559945494350&rtpof=true&sd=true)\n",
        "\n",
        "**Recordings**\n",
        "\n",
        "[LSA Part 1 recording - Latent Semantic Indexing](https://docs.google.com/presentation/d/19jPwerqd7G3Jw7oTmviPeU7QtjQ3SMZj/edit?usp=sharing&ouid=110090632559945494350&rtpof=true&sd=true)\n",
        "\n",
        "[LSA Part 2 recording - Dimensionality Reduction](https://docs.google.com/presentation/d/1cDWDU3spgyCNHjSir9I9ZpSrz8vacZlu/edit?usp=sharing&ouid=110090632559945494350&rtpof=true&sd=true)\n",
        "\n",
        "[LSA Part 3 recording - LSI for information retrieval](https://docs.google.com/presentation/d/1ODMFK089oOWt4_6hibVyhkxdJ_wbcfdd/edit?usp=sharing&ouid=110090632559945494350&rtpof=true&sd=true)\n",
        "\n",
        "**Colab pages**\n",
        "\n",
        "Colab page: [Latent Semantic Analysis](https://colab.research.google.com/drive/1BXr4DuL-uKdQeTHUI_jVfhyuAykrair8?usp=sharing)\n",
        "\n",
        "Colab page: [Evaluation Measures](https://colab.research.google.com/drive/1XZc5cx3GKTUYJhLZjWgWyobkrGFd6nfA?usp=sharing)\n",
        "\n",
        "**Lab Exercise (No. 4a) (Yan)**\n",
        "1. Your task is to use the cleaned ArtReviews dataset and the ArtRatings(classes) and repeat the Lab sheet to apply LSA. \n",
        "\n",
        "\n",
        "\n"
      ]
    },
    {
      "cell_type": "markdown",
      "metadata": {
        "id": "lGIHDEcb2jQY"
      },
      "source": [
        "# Week 2, Day 1 Monday: Evaluation Measures "
      ]
    },
    {
      "cell_type": "markdown",
      "metadata": {
        "id": "m13XRxZW15Hk"
      },
      "source": [
        "**Lecture Material**\n",
        "\n",
        "**PPT slides**\n",
        "\n",
        "Colab page: [Evaluation Measures](https://colab.research.google.com/drive/1XZc5cx3GKTUYJhLZjWgWyobkrGFd6nfA?usp=sharing)\n",
        "\n",
        "**Recordings**\n",
        "\n",
        "[Evaluation measures Part 1 - Ranked Evaluation](https://drive.google.com/file/d/1jz9dnFMdqqcP6jgFD0x6jo69uM6DE2zu/view?usp=sharing)\n",
        "\n",
        "[Evaluation measures Part 2 - Unranked Evaluation](https://drive.google.com/file/d/14gIeugNfVMS6HUqGDBUPwdsVszhH8HME/view?usp=sharing)\n",
        "\n",
        "[Evaluation measures Part 3 - Evaluation benchamarks](https://drive.google.com/file/d/1q2Qla9Sns3lE9VATSOrL9SDX8iilapxg/view?usp=sharing)\n",
        "\n",
        "\n",
        "**Lab Exercise (No. 4b) (Yan)**\n",
        "\n",
        "Building on from the previous lab\n",
        "\n",
        "2. Use Evaluation measures to evaluate the performance of the 2 given queries. **Yan can you please create these two queries? **\n",
        "\n",
        "3. Briefly outline in bullets the main findings. \n"
      ]
    },
    {
      "cell_type": "markdown",
      "metadata": {
        "id": "mApi8x7P1kpG"
      },
      "source": [
        "# Week 2, Day 2 Tuesday:Sentiment Analysis with BERT\n",
        "---"
      ]
    },
    {
      "cell_type": "markdown",
      "metadata": {
        "id": "XM9lYkWI2EHA"
      },
      "source": [
        "**Lecture Material**\n",
        "\n",
        "**PPT slides**\n",
        "\n",
        "**PPT recordings**\n",
        "\n",
        "**Lecture Material/Tutorial on Sentiment Analysis with BERT**\n",
        "\n",
        "[A Visual Notebook to Using BERT for the First TIme.ipynb](https://colab.research.google.com/drive/1pjesm9W6nYnND_b8veHsl-Gu_RAxvAX7?usp=sharing)\n",
        "\n",
        "**Lab Exercise (No. 5) (Yan)**\n",
        "\n",
        "Your task is to use the cleaned ArtReviews dataset and the ArtRatings(classes) and repeat the Lab Tutorial. "
      ]
    },
    {
      "cell_type": "markdown",
      "metadata": {
        "id": "Mwur-vCUYnzx"
      },
      "source": [
        "# Week 2, Day 3 Wednesday (no lectures) & Day 4 Thursday: Text Summarisation \n",
        "---\n"
      ]
    },
    {
      "cell_type": "markdown",
      "metadata": {
        "id": "cQuLX5vD2wvd"
      },
      "source": [
        "**Lecture**\n",
        "\n",
        "What is text summarisation, methods, and metrics\n",
        "\n",
        "[A gentle introduction to Text summarisation](https://machinelearningmastery.com/gentle-introduction-text-summarization/)\n",
        "\n",
        "[Text Summarisation and Evaluation] (https://github.com/Yale-LILY/SummerTime) This is a GitHub \n",
        "\n",
        "[SummerTime Midway Showcase](https://colab.research.google.com/drive/1woBkMOkPd-zAP39Pevj4Aif-p8j3nhXe?usp=sharing) This notebook shows part of the current functionality of the SummerTime - A summarization library.\n",
        "\n",
        "[GPT-2 Text Summarisation using the GPT-2 playground](https://colab.research.google.com/drive/1afLQ3GiMib9bq7_g9pEdoWv3OaCEsOr2?usp=sharing)\n",
        "\n",
        "\n",
        "**Lab Exercise (No. 6) (Yan)**\n",
        "\n",
        "Your task is to apply text summarisation and evaluation to the ArtReviews dataset using the SummerTime Midway Showcase example. You will only need to summarise using the different models and evaluate and compare the results. Briefly outline in bullets the main findings.  \n",
        "\n",
        "\n",
        "**Lab Exercise (No. 7) (Yan)**\n",
        "\n",
        "Your task is to apply text summarisation and evaluation to the ArtReviews dataset using GPT-2 by following the above tutorials. \n",
        "\n",
        "How was the process compared to when you used SummerTime? Briefly outline in bullets the main findings. \n",
        "\n"
      ]
    },
    {
      "cell_type": "markdown",
      "metadata": {
        "id": "RDtOrM1oY29o"
      },
      "source": [
        "# Week 2, Day 5 Friday - Getting Started on the Coursework\n",
        "---\n",
        "\n",
        "Coursework TO DO\n",
        "\n",
        "- Information retrieval (35 marks)\n",
        "- Classification (35 marks)\n",
        "- Summarisation (30 marks)\n",
        "\n",
        "\n",
        "\n"
      ]
    }
  ]
}